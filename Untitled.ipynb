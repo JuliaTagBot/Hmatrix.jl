{
 "cells": [
  {
   "cell_type": "code",
   "execution_count": 23,
   "metadata": {},
   "outputs": [
    {
     "name": "stderr",
     "output_type": "stream",
     "text": [
      "WARNING: redefining constant tos\n"
     ]
    },
    {
     "data": {
      "text/plain": [
       "new_profile (generic function with 1 method)"
      ]
     },
     "execution_count": 23,
     "metadata": {},
     "output_type": "execute_result"
    }
   ],
   "source": [
    "include(\"test_Merton_kernel.jl\")"
   ]
  },
  {
   "cell_type": "code",
   "execution_count": 24,
   "metadata": {},
   "outputs": [
    {
     "name": "stdout",
     "output_type": "stream",
     "text": [
      "Construction     :   0.085517 seconds (179.83 k allocations: 9.557 MiB)\n",
      "Matrix Vecotr Mul:   0.000625 seconds (530 allocations: 53.125 KiB)\n",
      "LU               :   0.003513 seconds (1.91 k allocations: 1.988 MiB)\n",
      "Solve            :   0.005304 seconds (520 allocations: 69.219 KiB)\n"
     ]
    }
   ],
   "source": [
    "test_case_3(8);"
   ]
  },
  {
   "cell_type": "code",
   "execution_count": 25,
   "metadata": {
    "scrolled": false
   },
   "outputs": [
    {
     "name": "stdout",
     "output_type": "stream",
     "text": [
      "Construction     :   0.001297 seconds (790 allocations: 558.172 KiB)\n",
      "Matrix Vecotr Mul:   0.000716 seconds (530 allocations: 53.125 KiB)\n",
      "LU               :   0.003503 seconds (1.91 k allocations: 1.988 MiB)\n",
      "Solve            :   0.001086 seconds (520 allocations: 69.219 KiB)\n",
      "n= 10\n",
      "Construction     :   0.270670 seconds (421.60 k allocations: 23.537 MiB, 2.32% gc time)\n",
      "Matrix Vecotr Mul:   0.003374 seconds (4.11 k allocations: 360.625 KiB)\n",
      "LU               :   0.179927 seconds (190.69 k allocations: 42.050 MiB)\n",
      "Solve            :   0.005790 seconds (4.10 k allocations: 382.656 KiB)\n",
      "n= 11\n",
      "Construction     :   0.023304 seconds (25.92 k allocations: 9.171 MiB)\n",
      "Matrix Vecotr Mul:   0.007590 seconds (8.55 k allocations: 745.625 KiB)\n",
      "LU               :   0.133265 seconds (92.81 k allocations: 73.375 MiB)\n",
      "Solve            :   0.011749 seconds (8.54 k allocations: 774.844 KiB)\n",
      "n= 12\n",
      "Construction     :   0.059681 seconds (58.24 k allocations: 21.283 MiB, 6.16% gc time)\n",
      "Matrix Vecotr Mul:   0.016294 seconds (18.46 k allocations: 1.555 MiB)\n",
      "LU               :   0.340264 seconds (254.53 k allocations: 192.416 MiB)\n",
      "Solve            :   0.024961 seconds (18.46 k allocations: 1.572 MiB)\n",
      "n= 13\n",
      "Construction     :   0.137638 seconds (124.80 k allocations: 47.551 MiB, 4.87% gc time)\n",
      "Matrix Vecotr Mul:   0.044806 seconds (38.56 k allocations: 3.237 MiB)\n",
      "LU               :   0.764495 seconds (612.80 k allocations: 449.274 MiB)\n",
      "Solve            :   0.054634 seconds (38.56 k allocations: 3.227 MiB)\n",
      "n= 14\n",
      "Construction     :   0.441165 seconds (265.01 k allocations: 109.129 MiB, 29.56% gc time)\n",
      "Matrix Vecotr Mul:   0.157531 seconds (80.40 k allocations: 6.724 MiB)\n",
      "LU               :   1.818053 seconds (1.49 M allocations: 1.123 GiB)\n",
      "Solve            :   0.179283 seconds (80.40 k allocations: 6.631 MiB)\n",
      "n= 15\n",
      "Construction     :   1.120509 seconds (542.73 k allocations: 243.412 MiB, 24.56% gc time)\n",
      "Matrix Vecotr Mul:   0.374372 seconds (163.46 k allocations: 13.650 MiB, 8.48% gc time)\n",
      "LU               :   3.907956 seconds (3.32 M allocations: 2.545 GiB)\n",
      "Solve            :   0.386632 seconds (163.46 k allocations: 13.392 MiB)\n",
      "n= 16\n",
      "Construction     :   2.802741 seconds (1.10 M allocations: 533.040 MiB, 19.99% gc time)\n",
      "Matrix Vecotr Mul:   0.818750 seconds (330.18 k allocations: 27.551 MiB, 12.72% gc time)\n",
      "LU               :   8.823922 seconds (7.44 M allocations: 6.020 GiB)\n",
      "Solve            :   0.878611 seconds (330.18 k allocations: 26.947 MiB, 7.38% gc time)\n",
      "n= 17\n",
      "Construction     :   6.684127 seconds (2.23 M allocations: 1.129 GiB, 21.68% gc time)\n",
      "Matrix Vecotr Mul:   1.542270 seconds (667.24 k allocations: 55.591 MiB, 3.44% gc time)\n",
      "LU               :  19.126738 seconds (16.13 M allocations: 13.167 GiB)\n",
      "Solve            :   1.824131 seconds (667.24 k allocations: 54.232 MiB, 10.21% gc time)\n",
      "n= 18\n",
      "Construction     :  14.697023 seconds (4.48 M allocations: 2.456 GiB, 23.59% gc time)\n",
      "Matrix Vecotr Mul:   3.649261 seconds (1.34 M allocations: 111.370 MiB, 6.11% gc time)\n",
      "LU               :  46.197783 seconds (35.11 M allocations: 29.713 GiB)\n",
      "Solve            :   3.298407 seconds (1.34 M allocations: 108.571 MiB, 8.75% gc time)\n",
      "n= 19\n",
      "Construction     :  34.414791 seconds (8.99 M allocations: 5.231 GiB, 26.19% gc time)\n",
      "Matrix Vecotr Mul:   6.974326 seconds (2.68 M allocations: 223.257 MiB, 6.60% gc time)\n",
      "LU               : 102.591468 seconds (75.41 M allocations: 68.306 GiB)\n",
      "Solve            :   8.606982 seconds (2.68 M allocations: 217.502 MiB, 7.26% gc time)\n",
      "n= 20\n",
      "Construction     :  82.560970 seconds (18.01 M allocations: 11.267 GiB, 32.37% gc time)\n",
      "Matrix Vecotr Mul:  16.183609 seconds (5.37 M allocations: 447.031 MiB, 8.58% gc time)\n",
      "LU               : 228.144078 seconds (159.08 M allocations: 152.730 GiB)\n",
      "Solve            :  18.081391 seconds (5.37 M allocations: 435.337 MiB, 10.43% gc time)\n"
     ]
    }
   ],
   "source": [
    "test_case_3(8)\n",
    "for n = 10:20\n",
    "    println(\"n= $n\")\n",
    "    test_case_3(n)\n",
    "end\n",
    "    "
   ]
  },
  {
   "cell_type": "code",
   "execution_count": 13,
   "metadata": {},
   "outputs": [
    {
     "name": "stdout",
     "output_type": "stream",
     "text": [
      "Construction     :   0.001228 seconds (790 allocations: 558.172 KiB)\n",
      "Matrix Vecotr Mul:   0.000575 seconds (530 allocations: 53.125 KiB)\n",
      "LU               :   0.003631 seconds (2.04 k allocations: 1.999 MiB)\n",
      "Solve            :   0.000718 seconds (520 allocations: 69.219 KiB)\n",
      "n= 10\n",
      "Construction     :   0.010669 seconds (11.99 k allocations: 4.116 MiB)\n",
      "Matrix Vecotr Mul:   0.003610 seconds (4.11 k allocations: 360.625 KiB)\n",
      "LU               :   0.129248 seconds (42.30 k allocations: 30.510 MiB, 63.43% gc time)\n",
      "Solve            :   0.004286 seconds (4.10 k allocations: 382.656 KiB)\n",
      "n= 11\n",
      "Construction     :   0.026261 seconds (25.92 k allocations: 9.171 MiB)\n",
      "Matrix Vecotr Mul:   0.059443 seconds (8.59 k allocations: 746.281 KiB, 86.11% gc time)\n",
      "LU               :   0.991584 seconds (90.80 k allocations: 65.639 MiB, 64.69% gc time)\n",
      "Solve            :   0.010034 seconds (8.54 k allocations: 775.156 KiB)\n",
      "n= 12\n",
      "Construction     :   0.059791 seconds (58.24 k allocations: 21.283 MiB, 6.35% gc time)\n",
      "Matrix Vecotr Mul:   0.016274 seconds (18.46 k allocations: 1.555 MiB)\n",
      "LU               :   0.258418 seconds (243.49 k allocations: 173.458 MiB, 8.90% gc time)\n",
      "Solve            :   0.019556 seconds (18.46 k allocations: 1.573 MiB)\n",
      "n= 13\n",
      "Construction     :   0.290991 seconds (124.77 k allocations: 47.550 MiB, 50.61% gc time)\n",
      "Matrix Vecotr Mul:   0.049259 seconds (38.56 k allocations: 3.237 MiB, 8.66% gc time)\n",
      "LU               :   0.690461 seconds (579.27 k allocations: 409.454 MiB, 21.73% gc time)\n",
      "Solve            :   0.044566 seconds (38.56 k allocations: 3.227 MiB)\n",
      "n= 14\n",
      "Construction     :   0.470022 seconds (265.00 k allocations: 109.129 MiB, 27.33% gc time)\n",
      "Matrix Vecotr Mul:   0.261265 seconds (80.40 k allocations: 6.724 MiB, 35.38% gc time)\n",
      "LU               :   1.743056 seconds (1.41 M allocations: 1.034 GiB, 21.26% gc time)\n",
      "Solve            :   0.150903 seconds (80.40 k allocations: 6.631 MiB)\n",
      "n= 15\n",
      "Construction     :   1.216599 seconds (543.24 k allocations: 243.420 MiB, 23.64% gc time)\n",
      "Matrix Vecotr Mul:   0.441718 seconds (163.46 k allocations: 13.650 MiB, 21.27% gc time)\n",
      "LU               :   4.094671 seconds (3.13 M allocations: 2.375 GiB, 23.06% gc time)\n",
      "Solve            :   0.332489 seconds (163.46 k allocations: 13.392 MiB)\n",
      "n= 16\n",
      "Construction     :   2.925556 seconds (1.10 M allocations: 533.034 MiB, 21.84% gc time)\n",
      "Matrix Vecotr Mul:   0.725018 seconds (330.18 k allocations: 27.551 MiB, 0.95% gc time)\n",
      "LU               :   8.837505 seconds (7.01 M allocations: 5.658 GiB, 24.31% gc time)\n",
      "Solve            :   0.701534 seconds (330.18 k allocations: 26.948 MiB, 0.99% gc time)\n",
      "n= 17\n",
      "Construction     :   6.981524 seconds (2.23 M allocations: 1.129 GiB, 19.79% gc time)\n",
      "Matrix Vecotr Mul:   1.659110 seconds (667.24 k allocations: 55.591 MiB, 8.34% gc time)\n",
      "LU               :  20.851007 seconds (15.16 M allocations: 12.408 GiB, 31.48% gc time)\n",
      "Solve            :   1.477451 seconds (667.24 k allocations: 54.233 MiB, 3.78% gc time)\n",
      "n= 18\n",
      "Construction     :  14.998428 seconds (4.48 M allocations: 2.456 GiB, 23.39% gc time)\n",
      "Matrix Vecotr Mul:   3.472466 seconds (1.34 M allocations: 111.370 MiB, 7.00% gc time)\n",
      "LU               :  52.662035 seconds (33.00 M allocations: 28.148 GiB, 41.27% gc time)\n",
      "Solve            :   2.949347 seconds (1.34 M allocations: 108.575 MiB, 2.18% gc time)\n",
      "n= 19\n",
      "Construction     :  33.768014 seconds (8.99 M allocations: 5.231 GiB, 25.15% gc time)\n",
      "Matrix Vecotr Mul:   6.743485 seconds (2.68 M allocations: 223.257 MiB, 7.35% gc time)\n",
      "LU               : 169.704742 seconds (70.84 M allocations: 65.084 GiB, 59.10% gc time)\n",
      "Solve            :   6.518126 seconds (2.68 M allocations: 217.505 MiB, 8.30% gc time)\n",
      "n= 20\n",
      "Construction     :  79.895939 seconds (18.01 M allocations: 11.267 GiB, 31.63% gc time)\n",
      "Matrix Vecotr Mul:  15.233788 seconds (5.37 M allocations: 447.031 MiB, 8.60% gc time)\n",
      "LU               : 522.234075 seconds (149.83 M allocations: 146.563 GiB, 71.93% gc time)\n",
      "Solve            :  14.988316 seconds (5.37 M allocations: 435.342 MiB, 5.96% gc time)\n"
     ]
    }
   ],
   "source": [
    "test_case_3(8)\n",
    "for n = 10:20\n",
    "    println(\"n= $n\")\n",
    "    test_case_3(n, 1e-2)\n",
    "end\n",
    "    "
   ]
  },
  {
   "cell_type": "code",
   "execution_count": 14,
   "metadata": {},
   "outputs": [
    {
     "name": "stdout",
     "output_type": "stream",
     "text": [
      "Construction     :   0.001197 seconds (790 allocations: 558.172 KiB)\n",
      "Matrix Vecotr Mul:   0.000565 seconds (530 allocations: 53.125 KiB)\n",
      "LU               :   0.003566 seconds (2.04 k allocations: 1.999 MiB)\n",
      "Solve            :   0.000672 seconds (520 allocations: 69.219 KiB)\n",
      "n= 10\n",
      "Construction     :   0.010658 seconds (11.99 k allocations: 4.116 MiB)\n",
      "Matrix Vecotr Mul:   0.003615 seconds (4.11 k allocations: 360.625 KiB)\n",
      "LU               :   0.127445 seconds (42.30 k allocations: 30.510 MiB, 64.40% gc time)\n",
      "Solve            :   0.004105 seconds (4.10 k allocations: 382.656 KiB)\n",
      "n= 11\n",
      "Construction     :   0.023540 seconds (25.92 k allocations: 9.171 MiB)\n",
      "Matrix Vecotr Mul:   0.048855 seconds (8.59 k allocations: 746.281 KiB, 83.02% gc time)\n",
      "LU               :   0.335633 seconds (90.54 k allocations: 65.314 MiB, 72.55% gc time)\n",
      "Solve            :   0.195199 seconds (8.54 k allocations: 774.844 KiB)\n",
      "n= 12\n",
      "Construction     :   0.059922 seconds (58.24 k allocations: 21.283 MiB, 6.42% gc time)\n",
      "Matrix Vecotr Mul:   0.016318 seconds (18.46 k allocations: 1.555 MiB)\n",
      "LU               :   0.260618 seconds (243.42 k allocations: 173.260 MiB, 8.99% gc time)\n",
      "Solve            :   0.019417 seconds (18.46 k allocations: 1.572 MiB)\n",
      "n= 13\n",
      "Construction     :   0.264670 seconds (124.75 k allocations: 47.550 MiB, 45.31% gc time)\n",
      "Matrix Vecotr Mul:   0.050683 seconds (38.56 k allocations: 3.237 MiB, 8.57% gc time)\n",
      "LU               :   0.672763 seconds (578.85 k allocations: 409.009 MiB, 21.59% gc time)\n",
      "Solve            :   0.043702 seconds (38.56 k allocations: 3.227 MiB)\n",
      "n= 14\n",
      "Construction     :   0.461675 seconds (264.96 k allocations: 109.129 MiB, 30.90% gc time)\n",
      "Matrix Vecotr Mul:   0.246668 seconds (80.40 k allocations: 6.724 MiB, 35.76% gc time)\n",
      "LU               :   1.669491 seconds (1.41 M allocations: 1.034 GiB, 21.67% gc time)\n",
      "Solve            :   0.147424 seconds (80.40 k allocations: 6.631 MiB)\n",
      "n= 15\n",
      "Construction     :   1.143041 seconds (543.20 k allocations: 243.419 MiB, 24.14% gc time)\n",
      "Matrix Vecotr Mul:   0.439510 seconds (163.46 k allocations: 13.650 MiB, 21.21% gc time)\n",
      "LU               :   3.695257 seconds (3.13 M allocations: 2.372 GiB, 21.71% gc time)\n",
      "Solve            :   0.413553 seconds (163.46 k allocations: 13.393 MiB)\n",
      "n= 16\n",
      "Construction     :   2.945044 seconds (1.10 M allocations: 533.041 MiB, 22.54% gc time)\n",
      "Matrix Vecotr Mul:   0.751528 seconds (330.18 k allocations: 27.551 MiB, 1.02% gc time)\n",
      "LU               :   9.105339 seconds (7.01 M allocations: 5.661 GiB, 25.33% gc time)\n",
      "Solve            :   0.706031 seconds (330.18 k allocations: 26.948 MiB, 1.10% gc time)\n",
      "n= 17\n",
      "Construction     :   6.560358 seconds (2.23 M allocations: 1.129 GiB, 20.27% gc time)\n",
      "Matrix Vecotr Mul:   1.564517 seconds (667.24 k allocations: 55.591 MiB, 4.25% gc time)\n",
      "LU               :  20.629897 seconds (15.16 M allocations: 12.418 GiB, 32.48% gc time)\n",
      "Solve            :   1.815113 seconds (667.24 k allocations: 54.233 MiB, 1.38% gc time)\n",
      "n= 18\n",
      "Construction     :  14.523984 seconds (4.48 M allocations: 2.456 GiB, 22.48% gc time)\n",
      "Matrix Vecotr Mul:   4.365897 seconds (1.34 M allocations: 111.370 MiB, 7.92% gc time)\n",
      "LU               :  52.318094 seconds (33.03 M allocations: 28.243 GiB, 40.07% gc time)\n",
      "Solve            :   3.182234 seconds (1.34 M allocations: 108.575 MiB, 7.89% gc time)\n",
      "n= 19\n",
      "Construction     :  33.337146 seconds (8.99 M allocations: 5.231 GiB, 24.46% gc time)\n",
      "Matrix Vecotr Mul:   6.643790 seconds (2.68 M allocations: 223.257 MiB, 6.01% gc time)\n",
      "LU               : 149.958418 seconds (70.81 M allocations: 64.993 GiB, 55.00% gc time)\n",
      "Solve            :   6.332103 seconds (2.68 M allocations: 217.504 MiB, 7.53% gc time)\n",
      "n= 20\n",
      "Construction     :  77.725204 seconds (18.01 M allocations: 11.267 GiB, 30.36% gc time)\n",
      "Matrix Vecotr Mul:  15.545238 seconds (5.37 M allocations: 447.031 MiB, 8.79% gc time)\n",
      "LU               : 522.657550 seconds (149.88 M allocations: 146.561 GiB, 71.96% gc time)\n",
      "Solve            :  13.247427 seconds (5.37 M allocations: 435.343 MiB, 9.43% gc time)\n"
     ]
    }
   ],
   "source": [
    "test_case_3(8)\n",
    "for n = 10:20\n",
    "    println(\"n= $n\")\n",
    "    test_case_3(n, 1e-3)\n",
    "end"
   ]
  },
  {
   "cell_type": "code",
   "execution_count": null,
   "metadata": {},
   "outputs": [],
   "source": []
  }
 ],
 "metadata": {
  "kernelspec": {
   "display_name": "Julia 1.0.2",
   "language": "julia",
   "name": "julia-1.0"
  },
  "language_info": {
   "file_extension": ".jl",
   "mimetype": "application/julia",
   "name": "julia",
   "version": "1.0.2"
  }
 },
 "nbformat": 4,
 "nbformat_minor": 2
}
