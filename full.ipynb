{
 "cells": [
  {
   "cell_type": "code",
   "execution_count": 59,
   "metadata": {},
   "outputs": [
    {
     "name": "stderr",
     "output_type": "stream",
     "text": [
      "WARNING: redefining constant tos\n"
     ]
    },
    {
     "data": {
      "text/plain": [
       "test_construct2D_low_rank (generic function with 1 method)"
      ]
     },
     "execution_count": 59,
     "metadata": {},
     "output_type": "execute_result"
    }
   ],
   "source": [
    "using LinearAlgebra\n",
    "include(\"hconstruct.jl\")"
   ]
  },
  {
   "cell_type": "code",
   "execution_count": 2,
   "metadata": {},
   "outputs": [
    {
     "data": {
      "text/plain": [
       "readfile (generic function with 1 method)"
      ]
     },
     "execution_count": 2,
     "metadata": {},
     "output_type": "execute_result"
    }
   ],
   "source": [
    "function readfile(filename)\n",
    "    S = read(filename, String)\n",
    "    M = map(x->parse(Float64, x), split(S))\n",
    "    n = Int(round(sqrt(length(M))))\n",
    "    copy(reshape(M, n, n)')\n",
    "end"
   ]
  },
  {
   "cell_type": "code",
   "execution_count": 5,
   "metadata": {},
   "outputs": [
    {
     "data": {
      "text/plain": [
       "3070×3070 Array{Float64,2}:\n",
       "  3.93709      -8.90002       0.0          …   0.0        0.0       0.0    \n",
       "  8.90002       4.14674       0.0              0.0        0.0       0.0    \n",
       " -1.31336      -0.748759      3.93709          0.0        0.0       0.0    \n",
       "  0.748759      0.609229      8.90002          0.0        0.0       0.0    \n",
       " -0.171814     -0.033494     -1.31336          0.0        0.0       0.0    \n",
       "  0.033494      0.00944697    0.748759     …   0.0        0.0       0.0    \n",
       " -0.0666564    -0.00836043   -0.171814         0.0        0.0       0.0    \n",
       "  0.00836043    0.00152178    0.033494         0.0        0.0       0.0    \n",
       " -0.0347651    -0.00323271   -0.0666564        0.0        0.0       0.0    \n",
       "  0.00323271    0.000436683   0.00836043       0.0        0.0       0.0    \n",
       " -0.0211055    -0.00156186   -0.0347651    …   0.0        0.0       0.0    \n",
       "  0.00156186    0.000167982   0.00323271       0.0        0.0       0.0    \n",
       " -0.0140699    -0.000865243  -0.0211055        0.0        0.0       0.0    \n",
       "  ⋮                                        ⋱                               \n",
       " -1.75799e-7   -6.38372e-11  -1.76182e-7       0.0        0.0       0.0    \n",
       " -1.75417e-7   -6.34409e-11  -1.75799e-7       0.0        0.0       0.0    \n",
       " -1.75037e-7   -6.3197e-11   -1.75417e-7   …   0.0        0.0       0.0    \n",
       " -1.74658e-7   -6.33037e-11  -1.75037e-7       0.0        0.0       0.0    \n",
       " -1.74279e-7   -6.29531e-11  -1.74658e-7       0.0        0.0       0.0    \n",
       " -1.73902e-7   -6.27397e-11  -1.74279e-7       0.0        0.0       0.0    \n",
       " -1.73527e-7   -6.23586e-11  -1.73902e-7       0.0        0.0       0.0    \n",
       " -1.73152e-7   -6.24196e-11  -1.73527e-7   …   0.0        0.0       0.0    \n",
       " -1.72779e-7   -6.22062e-11  -1.73152e-7      -2.07635    0.0       0.0    \n",
       " -1.72406e-7   -6.17947e-11  -1.72779e-7       1.0766    -2.07635   0.0    \n",
       " -1.72035e-7   -6.18404e-11  -1.72406e-7       1.46258    1.0766   -2.07635\n",
       " -0.000146359  -2.86416e-8   -0.000146531     -0.460881   1.0017    2.07732"
      ]
     },
     "execution_count": 5,
     "metadata": {},
     "output_type": "execute_result"
    }
   ],
   "source": [
    "M = readfile(\"flap/FSEMonesideN1023P3.txt\")"
   ]
  },
  {
   "cell_type": "code",
   "execution_count": 136,
   "metadata": {},
   "outputs": [
    {
     "data": {
      "text/plain": [
       "(3070, 3070)"
      ]
     },
     "execution_count": 136,
     "metadata": {},
     "output_type": "execute_result"
    }
   ],
   "source": [
    "size(M)"
   ]
  },
  {
   "cell_type": "code",
   "execution_count": 137,
   "metadata": {},
   "outputs": [],
   "source": [
    "MM = (M + M');"
   ]
  },
  {
   "cell_type": "code",
   "execution_count": 179,
   "metadata": {},
   "outputs": [
    {
     "name": "stderr",
     "output_type": "stream",
     "text": [
      "WARNING: redefining constant tos\n"
     ]
    },
    {
     "data": {
      "text/plain": [
       "Hmat\n",
       "  A: Array{Float64}((0,)) Float64[]\n",
       "  B: Array{Float64}((0,)) Float64[]\n",
       "  C: Array{Float64}((0,)) Float64[]\n",
       "  CC: Array{Float64}((0,)) Float64[]\n",
       "  P: Array{Int64}((0,)) Int64[]\n",
       "  is_rkmatrix: Bool false\n",
       "  is_fullmatrix: Bool false\n",
       "  is_hmat: Bool true\n",
       "  is_transposed: Bool false\n",
       "  m: Int64 2048\n",
       "  n: Int64 2048\n",
       "  children: Array{Hmat}((2, 2))\n"
      ]
     },
     "execution_count": 179,
     "metadata": {},
     "output_type": "execute_result"
    }
   ],
   "source": [
    "include(\"hconstruct.jl\")\n",
    "MM = (M + M');\n",
    "MM = MM[end-2047:end,end-2047:end]\n",
    "H = construct_hmat(MM, 64, 1e-6, 5, -1)"
   ]
  },
  {
   "cell_type": "code",
   "execution_count": 180,
   "metadata": {},
   "outputs": [
    {
     "data": {
      "image/png": "[encoded data removed]",
      "text/plain": [
       "Figure(PyObject <Figure size 480x480 with 1 Axes>)"
      ]
     },
     "metadata": {},
     "output_type": "display_data"
    },
    {
     "data": {
      "text/plain": [
       "PyObject <matplotlib.image.AxesImage object at 0x1ce3e8748>"
      ]
     },
     "execution_count": 180,
     "metadata": {},
     "output_type": "execute_result"
    }
   ],
   "source": [
    "matshow(H)"
   ]
  },
  {
   "cell_type": "code",
   "execution_count": 182,
   "metadata": {
    "collapsed": true
   },
   "outputs": [
    {
     "name": "stdout",
     "output_type": "stream",
     "text": [
      "Matvec Error = 1.571105382437093e-10\n"
     ]
    },
    {
     "name": "stderr",
     "output_type": "stream",
     "text": [
      "WARNING: redefining constant tos\n"
     ]
    },
    {
     "name": "stdout",
     "output_type": "stream",
     "text": [
      "Matrix Error = 2.870620612810506e-10\n",
      "Solve Error = 0.059884664252173564\n",
      "LU Matrix Error = 0.023335621723964035\n"
     ]
    },
    {
     "data": {
      "text/plain": [
       "2048-element Array{Int64,1}:\n",
       "    1\n",
       "    2\n",
       "    3\n",
       "    4\n",
       "    5\n",
       "    6\n",
       "    7\n",
       "    8\n",
       "    9\n",
       "   10\n",
       "   11\n",
       "   12\n",
       "   13\n",
       "    ⋮\n",
       " 2037\n",
       " 2038\n",
       " 2039\n",
       " 2040\n",
       " 2041\n",
       " 2042\n",
       " 2043\n",
       " 2044\n",
       " 2045\n",
       " 2046\n",
       " 2047\n",
       " 2048"
      ]
     },
     "execution_count": 182,
     "metadata": {},
     "output_type": "execute_result"
    }
   ],
   "source": [
    "include(\"hconstruct.jl\")\n",
    "verify_matvec_error(H, MM)\n",
    "verify_matrix_error(H, MM)\n",
    "G = verify_lu_error(H);"
   ]
  },
  {
   "cell_type": "code",
   "execution_count": 213,
   "metadata": {},
   "outputs": [
    {
     "name": "stdout",
     "output_type": "stream",
     "text": [
      "Matvec Error = 5.801456738562236e-5\n"
     ]
    },
    {
     "name": "stderr",
     "output_type": "stream",
     "text": [
      "WARNING: redefining constant tos\n",
      "WARNING: redefining constant tos\n"
     ]
    },
    {
     "name": "stdout",
     "output_type": "stream",
     "text": [
      "Matrix Error = 1.1727139072325594e-5\n",
      "Solve Error = 1.2038606121963917e-5\n",
      "LU Matrix Error = 4.1749371590444144e-7\n",
      "Iteration 0, Error = 0.2168310484763355\n",
      "Iteration 1, Error = 0.06631196306598665\n",
      "Iteration 2, Error = 0.035627272627921654\n",
      "Iteration 3, Error = 0.01939197413897872\n",
      "Iteration 4, Error = 0.010210446510860671\n",
      "Iteration 5, Error = 0.0067165061496952914\n",
      "Iteration 6, Error = 0.004507531121394461\n",
      "Iteration 7, Error = 0.0035575402325005415\n",
      "Iteration 8, Error = 0.002555259154736239\n",
      "Iteration 9, Error = 0.002084587178073406\n",
      "Iteration 10, Error = 0.0015617845435761247\n",
      "Iteration 11, Error = 0.001285863610441447\n",
      "Iteration 12, Error = 0.0011186460639137673\n",
      "Iteration 13, Error = 0.0009386381650667176\n",
      "Iteration 14, Error = 0.0008321488948871215\n",
      "Iteration 15, Error = 0.0007357387598019626\n",
      "Iteration 16, Error = 0.0006773668542234207\n",
      "Iteration 17, Error = 0.0006268567687657573\n",
      "Iteration 18, Error = 0.0005879613263340244\n",
      "Iteration 19, Error = 0.0005522365662780865\n",
      "Iteration 20, Error = 0.0005358245803664025\n",
      "Iteration 21, Error = 0.0005214517191595324\n",
      "Iteration 22, Error = 0.000506945262629833\n",
      "Iteration 23, Error = 0.0004938095078791244\n",
      "Iteration 24, Error = 0.0004775188373836907\n",
      "Iteration 25, Error = 0.0004661793980449274\n",
      "Iteration 26, Error = 0.00045317705716013944\n",
      "Iteration 27, Error = 0.00044324920949432667\n",
      "Iteration 28, Error = 0.00043415678922575245\n",
      "Iteration 29, Error = 0.0004247953944091032\n",
      "Iteration 30, Error = 0.000419619663042861\n",
      "Iteration 31, Error = 0.00041331837754001756\n",
      "Iteration 32, Error = 0.00040874602918311895\n",
      "Iteration 33, Error = 0.00040355149245885265\n",
      "Iteration 34, Error = 0.0003990636243390712\n",
      "Iteration 35, Error = 0.00039518080264552315\n",
      "Iteration 36, Error = 0.00039077015749383896\n",
      "Iteration 37, Error = 0.00038552567857622966\n",
      "Iteration 38, Error = 0.00037775326593551323\n",
      "Iteration 39, Error = 0.00036766034609088193\n",
      "Iteration 40, Error = 0.00036181334743711554\n",
      "Iteration 41, Error = 0.00035673147166675616\n",
      "Iteration 42, Error = 0.000353100913891573\n",
      "Iteration 43, Error = 0.00034994511583553853\n",
      "Iteration 44, Error = 0.0003464196380065648\n",
      "Iteration 45, Error = 0.00034288066156568493\n",
      "Iteration 46, Error = 0.0003390988392989179\n",
      "Iteration 47, Error = 0.00033527399730517277\n",
      "Iteration 48, Error = 0.0003310605666587875\n",
      "Iteration 49, Error = 0.0003270903220847605\n",
      "Iteration 50, Error = 0.00032144753729249114\n",
      "Iteration 51, Error = 0.0003160317704921274\n",
      "Iteration 52, Error = 0.00031041298276386723\n",
      "Iteration 53, Error = 0.0003043672504197531\n",
      "Iteration 54, Error = 0.0002980590594695722\n",
      "Iteration 55, Error = 0.0002905549872538975\n",
      "Iteration 56, Error = 0.0002847041929175774\n",
      "Iteration 57, Error = 0.00027721961618041305\n",
      "Iteration 58, Error = 0.0002710930475748667\n",
      "Iteration 59, Error = 0.0002631831532970519\n",
      "Iteration 60, Error = 0.000257036272346357\n",
      "Iteration 61, Error = 0.0002519236096010782\n",
      "Iteration 62, Error = 0.0002460645350123752\n",
      "Iteration 63, Error = 0.0002417448454684978\n",
      "Iteration 64, Error = 0.00023573129143537267\n",
      "Iteration 65, Error = 0.00023105470732653771\n",
      "Iteration 66, Error = 0.00022665708526608085\n",
      "Iteration 67, Error = 0.00022215584505660214\n",
      "Iteration 68, Error = 0.0002184167550070827\n",
      "Iteration 69, Error = 0.00021424811863864443\n",
      "Iteration 70, Error = 0.00021142286527688596\n",
      "Iteration 71, Error = 0.00020867130422727419\n",
      "Iteration 72, Error = 0.0002060928569984278\n",
      "Iteration 73, Error = 0.00020367609384154951\n",
      "Iteration 74, Error = 0.00020151065730110673\n",
      "Iteration 75, Error = 0.00019946573014831335\n",
      "Iteration 76, Error = 0.0001976603465220179\n",
      "Iteration 77, Error = 0.00019570701846195678\n",
      "Iteration 78, Error = 0.00019303708384632573\n",
      "Iteration 79, Error = 0.00019022542703402186\n",
      "Iteration 80, Error = 0.00018777330897917993\n",
      "Iteration 81, Error = 0.0001853892489081263\n",
      "Iteration 82, Error = 0.00018361469240103486\n",
      "Iteration 83, Error = 0.00018202860448236739\n",
      "Iteration 84, Error = 0.0001802523371287881\n",
      "Iteration 85, Error = 0.00017841621215179554\n",
      "Iteration 86, Error = 0.00017641573371042168\n",
      "Iteration 87, Error = 0.00017424115959352362\n",
      "Iteration 88, Error = 0.00017198937675658055\n",
      "Iteration 89, Error = 0.0001697950490072172\n",
      "Iteration 90, Error = 0.00016667107340935053\n",
      "Iteration 91, Error = 0.00016386212142473693\n",
      "Iteration 92, Error = 0.0001607022128602384\n",
      "Iteration 93, Error = 0.0001575595699461741\n",
      "Iteration 94, Error = 0.00015441286669658447\n",
      "Iteration 95, Error = 0.00015059941240039344\n",
      "Iteration 96, Error = 0.00014785329288278168\n",
      "Iteration 97, Error = 0.0001442998834320895\n",
      "Iteration 98, Error = 0.00014137150589500248\n",
      "Iteration 99, Error = 0.00013820422014395196\n",
      "Iteration 100, Error = 0.0001353130537759702\n",
      "Iteration 101, Error = 0.0001327430857689552\n",
      "Iteration 102, Error = 0.0001296495720395087\n",
      "Iteration 103, Error = 0.0001273398261186448\n",
      "Iteration 104, Error = 0.00012423941819807169\n",
      "Iteration 105, Error = 0.00012176997039300653\n",
      "Iteration 106, Error = 0.0001194275449597802\n",
      "Iteration 107, Error = 0.00011704807706654063\n",
      "Iteration 108, Error = 0.00011504271077691098\n",
      "Iteration 109, Error = 0.00011290064932134666\n",
      "Iteration 110, Error = 0.00011143258989711466\n",
      "Iteration 111, Error = 0.00010997333551263367\n",
      "Iteration 112, Error = 0.00010859654366962541\n",
      "Iteration 113, Error = 0.00010733038970655814\n",
      "Iteration 114, Error = 0.00010619429053879923\n",
      "Iteration 115, Error = 0.00010514226289833306\n",
      "Iteration 116, Error = 0.00010418891701390993\n",
      "Iteration 117, Error = 0.00010315916413590103\n",
      "Iteration 118, Error = 0.00010183824484278267\n",
      "Iteration 119, Error = 0.00010052365311185704\n",
      "Iteration 120, Error = 9.931598461521123e-5\n",
      "Iteration 121, Error = 9.810834935761699e-5\n",
      "Iteration 122, Error = 9.716150082651817e-5\n",
      "Iteration 123, Error = 9.630323371080459e-5\n",
      "Iteration 124, Error = 9.537208603817662e-5\n",
      "Iteration 125, Error = 9.438650394760812e-5\n",
      "Iteration 126, Error = 9.331209046003075e-5\n",
      "Iteration 127, Error = 9.214603481767231e-5\n",
      "Iteration 128, Error = 9.094519148386238e-5\n",
      "Iteration 129, Error = 8.97878036884138e-5\n",
      "Iteration 130, Error = 8.81498825985412e-5\n",
      "Iteration 131, Error = 8.66478047938463e-5\n",
      "Iteration 132, Error = 8.495443535984614e-5\n",
      "Iteration 133, Error = 8.328599798416667e-5\n",
      "Iteration 134, Error = 8.161335390476143e-5\n",
      "Iteration 135, Error = 7.9616758572725e-5\n",
      "Iteration 136, Error = 7.815431625609397e-5\n",
      "Iteration 137, Error = 7.627994609948781e-5\n",
      "Iteration 138, Error = 7.47941037754284e-5\n",
      "Iteration 139, Error = 7.323837633610127e-5\n",
      "Iteration 140, Error = 7.178451260035237e-5\n",
      "Iteration 141, Error = 7.045299334173918e-5\n",
      "Iteration 142, Error = 6.880350875934769e-5\n",
      "Iteration 143, Error = 6.756287192663478e-5\n",
      "Iteration 144, Error = 6.593023820561642e-5\n",
      "Iteration 145, Error = 6.460979662673885e-5\n",
      "Iteration 146, Error = 6.335233854750985e-5\n",
      "Iteration 147, Error = 6.208739441162412e-5\n",
      "Iteration 148, Error = 6.1016115904546316e-5\n",
      "Iteration 149, Error = 5.9892903252959903e-5\n",
      "Iteration 150, Error = 5.911965822356852e-5\n",
      "Iteration 151, Error = 5.834191811212552e-5\n",
      "Iteration 152, Error = 5.7606874614121073e-5\n",
      "Iteration 153, Error = 5.693332945369251e-5\n",
      "Iteration 154, Error = 5.632908523442581e-5\n",
      "Iteration 155, Error = 5.5775223456549685e-5\n",
      "Iteration 156, Error = 5.526481397246039e-5\n",
      "Iteration 157, Error = 5.471836904571297e-5\n",
      "Iteration 158, Error = 5.404376431617538e-5\n",
      "Iteration 159, Error = 5.338509181035467e-5\n",
      "Iteration 160, Error = 5.2767022654325184e-5\n",
      "Iteration 161, Error = 5.214106830208314e-5\n",
      "Iteration 162, Error = 5.163616619153628e-5\n",
      "Iteration 163, Error = 5.1173908740049254e-5\n",
      "Iteration 164, Error = 5.0680849168733834e-5\n",
      "Iteration 165, Error = 5.015234812311211e-5\n",
      "Iteration 166, Error = 4.9575759663085115e-5\n",
      "Iteration 167, Error = 4.895319693213579e-5\n",
      "Iteration 168, Error = 4.831292760138749e-5\n",
      "Iteration 169, Error = 4.769859942283274e-5\n",
      "Iteration 170, Error = 4.683178190880588e-5\n",
      "Iteration 171, Error = 4.602826217690764e-5\n",
      "Iteration 172, Error = 4.5123076456763394e-5\n",
      "Iteration 173, Error = 4.423248026279538e-5\n",
      "Iteration 174, Error = 4.3339521587953065e-5\n",
      "Iteration 175, Error = 4.2283169709436264e-5\n",
      "Iteration 176, Error = 4.1502123916632635e-5\n",
      "Iteration 177, Error = 4.0509476733381234e-5\n",
      "Iteration 178, Error = 3.973983567064208e-5\n",
      "Iteration 179, Error = 3.8945660391782926e-5\n",
      "Iteration 180, Error = 3.819473409263636e-5\n",
      "Iteration 181, Error = 3.749570070720049e-5\n",
      "Iteration 182, Error = 3.661632485818009e-5\n",
      "Iteration 183, Error = 3.5950902159870103e-5\n",
      "Iteration 184, Error = 3.5085443166466496e-5\n",
      "Iteration 185, Error = 3.437888835782141e-5\n",
      "Iteration 186, Error = 3.3704540132464926e-5\n",
      "Iteration 187, Error = 3.303184357796589e-5\n",
      "Iteration 188, Error = 3.2460384424894625e-5\n",
      "Iteration 189, Error = 3.186555070512208e-5\n",
      "Iteration 190, Error = 3.1455027239941466e-5\n",
      "Iteration 191, Error = 3.104022715861935e-5\n",
      "Iteration 192, Error = 3.0647928183098374e-5\n",
      "Iteration 193, Error = 3.0288600304008795e-5\n",
      "Iteration 194, Error = 2.9965885829930826e-5\n"
     ]
    },
    {
     "name": "stdout",
     "output_type": "stream",
     "text": [
      "Iteration 195, Error = 2.9672203839977514e-5\n",
      "Iteration 196, Error = 2.939914947713508e-5\n",
      "Iteration 197, Error = 2.9109218936326735e-5\n",
      "Iteration 198, Error = 2.875911022091832e-5\n",
      "Iteration 199, Error = 2.8419427145448196e-5\n",
      "Iteration 200, Error = 2.8097368599557712e-5\n",
      "Iteration 201, Error = 2.7769428236795466e-5\n",
      "Iteration 202, Error = 2.7500610000719937e-5\n",
      "Iteration 203, Error = 2.7252239178357186e-5\n",
      "Iteration 204, Error = 2.6990113148874382e-5\n",
      "Iteration 205, Error = 2.670755174319773e-5\n",
      "Iteration 206, Error = 2.6398831366271924e-5\n",
      "Iteration 207, Error = 2.606631986935073e-5\n",
      "Iteration 208, Error = 2.572404257723211e-5\n",
      "Iteration 209, Error = 2.5397178317398574e-5\n",
      "Iteration 210, Error = 2.4936715825100187e-5\n",
      "Iteration 211, Error = 2.4506440660602384e-5\n",
      "Iteration 212, Error = 2.402185085097267e-5\n",
      "Iteration 213, Error = 2.3546449399946104e-5\n",
      "Iteration 214, Error = 2.3070784664755762e-5\n",
      "Iteration 215, Error = 2.2509145300608697e-5\n",
      "Iteration 216, Error = 2.209102948923902e-5\n",
      "Iteration 217, Error = 2.156472126448754e-5\n",
      "Iteration 218, Error = 2.116174056754507e-5\n",
      "Iteration 219, Error = 2.0749089861150138e-5\n",
      "Iteration 220, Error = 2.0356213031644493e-5\n",
      "Iteration 221, Error = 1.9987170888658733e-5\n",
      "Iteration 222, Error = 1.9518561443552323e-5\n",
      "Iteration 223, Error = 1.9161337814896785e-5\n",
      "Iteration 224, Error = 1.8701194525877627e-5\n",
      "Iteration 225, Error = 1.8324241772403505e-5\n",
      "Iteration 226, Error = 1.7962978316107323e-5\n",
      "Iteration 227, Error = 1.76043208805633e-5\n",
      "Iteration 228, Error = 1.7299460543465216e-5\n",
      "Iteration 229, Error = 1.6983250448987124e-5\n",
      "Iteration 230, Error = 1.676420335718091e-5\n",
      "Iteration 231, Error = 1.6542428578465193e-5\n",
      "Iteration 232, Error = 1.6333245110337474e-5\n",
      "Iteration 233, Error = 1.614167254388899e-5\n",
      "Iteration 234, Error = 1.5968939430571193e-5\n",
      "Iteration 235, Error = 1.581248657685358e-5\n",
      "Iteration 236, Error = 1.5666821062928867e-5\n",
      "Iteration 237, Error = 1.5513342960647e-5\n",
      "Iteration 238, Error = 1.533025599506786e-5\n",
      "Iteration 239, Error = 1.5151624667228376e-5\n",
      "Iteration 240, Error = 1.498199840158438e-5\n",
      "Iteration 241, Error = 1.4809635773888952e-5\n",
      "Iteration 242, Error = 1.4666915688329864e-5\n",
      "Iteration 243, Error = 1.453339858330173e-5\n",
      "Iteration 244, Error = 1.4393468148115862e-5\n",
      "Iteration 245, Error = 1.4243432586117273e-5\n",
      "Iteration 246, Error = 1.4078814995619353e-5\n",
      "Iteration 247, Error = 1.3900742186026394e-5\n",
      "Iteration 248, Error = 1.3716353249363145e-5\n",
      "Iteration 249, Error = 1.3543153878013137e-5\n",
      "Iteration 250, Error = 1.3299348948257468e-5\n",
      "Iteration 251, Error = 1.3067908314155336e-5\n",
      "Iteration 252, Error = 1.2806773190944095e-5\n",
      "Iteration 253, Error = 1.2553686377099952e-5\n",
      "Iteration 254, Error = 1.2302576665357627e-5\n",
      "Iteration 255, Error = 1.2002194972769114e-5\n",
      "Iteration 256, Error = 1.1776879860342352e-5\n",
      "Iteration 257, Error = 1.149762666221483e-5\n",
      "Iteration 258, Error = 1.128582989861838e-5\n",
      "Iteration 259, Error = 1.106947604865047e-5\n",
      "Iteration 260, Error = 1.0862598839922158e-5\n",
      "Iteration 261, Error = 1.0667665688718375e-5\n",
      "Iteration 262, Error = 1.0417961938060789e-5\n",
      "Iteration 263, Error = 1.0225118268151335e-5\n",
      "Iteration 264, Error = 9.9794006356084e-6\n",
      "Iteration 0, Error = 0.004353121200037735\n",
      "Iteration 1, Error = 2.5128557268808126e-5\n",
      "Iteration 2, Error = 1.0907877948133321e-7\n"
     ]
    },
    {
     "ename": "LoadError",
     "evalue": "syntax: invalid interpolation syntax: \"$\\\"",
     "output_type": "error",
     "traceback": [
      "syntax: invalid interpolation syntax: \"$\\\"",
      ""
     ]
    }
   ],
   "source": [
    "include(\"tools.jl\")\n",
    "include(\"hconstruct.jl\")\n",
    "M = readfile(\"FSEMonesideN1023P3.txt\")\n",
    "MM = (M + M');\n",
    "MM = MM[end-2047:end,end-2047:end]\n",
    "H = construct_hmat(MM, 64, 1e-3, 5, -1)\n",
    "verify_matvec_error(H, MM)\n",
    "verify_matrix_error(H, MM)\n",
    "G = verify_lu_error(H);\n",
    "lu!(H);\n",
    "op = x->H\\x\n",
    "g0 = rand(2048)\n",
    "g = MM*g0\n",
    "y1,err1 = pygmres_with_call_back(MM, g)\n",
    "y2,err2 = pygmres_with_call_back(MM, g, op)\n",
    "semilogy(err1, \"o--\", label=\"no preconditioner\")\n",
    "semilogy(err2, \"*--\", label=\"HLU preconditioner\")\n",
    "xlabel(\"iteration\")\n",
    "ylabel(\"$||r_k||_2$\")\n",
    "legend()\n",
    "@printf(\"Error(No Preconditioner) = %f, Error(Preconditioner) = %f\", norm(y1-g0)/norm(g0), \n",
    "                                                        norm(y2-g0)/norm(g0))"
   ]
  },
  {
   "cell_type": "code",
   "execution_count": 215,
   "metadata": {},
   "outputs": [
    {
     "data": {
      "image/png": "[encoded data removed]",
      "text/plain": [
       "Figure(PyObject <Figure size 640x480 with 1 Axes>)"
      ]
     },
     "metadata": {},
     "output_type": "display_data"
    },
    {
     "name": "stdout",
     "output_type": "stream",
     "text": [
      "Error(No Preconditioner) = 0.012917, Error(Preconditioner) = 0.000001"
     ]
    }
   ],
   "source": [
    "semilogy(err1, \"o--\", label=\"no preconditioner\")\n",
    "semilogy(err2, \"*--\", label=\"HLU preconditioner\")\n",
    "xlabel(\"iteration\")\n",
    "ylabel(L\"||r_k||_2\")\n",
    "legend()\n",
    "@printf(\"Error(No Preconditioner) = %f, Error(Preconditioner) = %f\", norm(y1-g0)/norm(g0), \n",
    "                                                                    norm(y2-g0)/norm(g0))"
   ]
  },
  {
   "cell_type": "code",
   "execution_count": 209,
   "metadata": {},
   "outputs": [
    {
     "data": {
      "image/png": "[encoded data removed]",
      "text/plain": [
       "Figure(PyObject <Figure size 480x480 with 1 Axes>)"
      ]
     },
     "metadata": {},
     "output_type": "display_data"
    },
    {
     "data": {
      "text/plain": [
       "PyObject <matplotlib.image.AxesImage object at 0x1ceb42860>"
      ]
     },
     "execution_count": 209,
     "metadata": {},
     "output_type": "execute_result"
    }
   ],
   "source": [
    "H = construct_hmat(MM, 64, 1e-6, 5, -1);\n",
    "matshow(H)"
   ]
  },
  {
   "cell_type": "code",
   "execution_count": 211,
   "metadata": {},
   "outputs": [
    {
     "name": "stdout",
     "output_type": "stream",
     "text": [
      "Matvec Error = 1.2507834199902222e-6\n"
     ]
    },
    {
     "name": "stderr",
     "output_type": "stream",
     "text": [
      "WARNING: redefining constant tos\n",
      "WARNING: redefining constant tos\n"
     ]
    },
    {
     "name": "stdout",
     "output_type": "stream",
     "text": [
      "Matrix Error = 5.765703870012027e-7\n",
      "Matvec Error = 8.502416410117005e-11\n",
      "Matrix Error = 1.0152333768802187e-10\n",
      "Solve Error = 0.16954697811432545\n",
      "LU Matrix Error = 0.3688699833523879\n",
      "Iteration 0, Error = 0.20909873927944392\n",
      "Iteration 1, Error = 0.05641120118196462\n",
      "Iteration 2, Error = 0.029126597081016916\n",
      "Iteration 3, Error = 0.0177020562749183\n",
      "Iteration 4, Error = 0.007563501466263831\n",
      "Iteration 5, Error = 0.005499425485618735\n",
      "Iteration 6, Error = 0.003330218939187194\n",
      "Iteration 7, Error = 0.0023544316071657354\n",
      "Iteration 8, Error = 0.0018633019376216478\n",
      "Iteration 9, Error = 0.001300187648462303\n",
      "Iteration 10, Error = 0.0009981804505430373\n",
      "Iteration 11, Error = 0.0008155456830272088\n",
      "Iteration 12, Error = 0.0006946002234015953\n",
      "Iteration 13, Error = 0.0005601195138944401\n",
      "Iteration 14, Error = 0.0004998146283542119\n",
      "Iteration 15, Error = 0.00044862355077159504\n",
      "Iteration 16, Error = 0.0004060138254770656\n",
      "Iteration 17, Error = 0.0003884722602539166\n",
      "Iteration 18, Error = 0.00036095001106362784\n",
      "Iteration 19, Error = 0.0003429141284299176\n",
      "Iteration 20, Error = 0.00033661419119259274\n",
      "Iteration 21, Error = 0.00032758824869652097\n",
      "Iteration 22, Error = 0.00032296225949020264\n",
      "Iteration 23, Error = 0.0003156454828776172\n",
      "Iteration 24, Error = 0.0003080357255651821\n",
      "Iteration 25, Error = 0.0003036584911241401\n",
      "Iteration 26, Error = 0.00029563378607845624\n",
      "Iteration 27, Error = 0.00028948942470810937\n",
      "Iteration 28, Error = 0.00028468209286623886\n",
      "Iteration 29, Error = 0.000278900688906295\n",
      "Iteration 30, Error = 0.0002751258187530561\n",
      "Iteration 31, Error = 0.00027157212806235427\n",
      "Iteration 32, Error = 0.00026736190447612256\n",
      "Iteration 33, Error = 0.00026346885864138645\n",
      "Iteration 34, Error = 0.0002605808339001542\n",
      "Iteration 35, Error = 0.00025628672072697\n",
      "Iteration 36, Error = 0.0002511079857038793\n",
      "Iteration 37, Error = 0.00024685169511153064\n",
      "Iteration 38, Error = 0.00023960018302266752\n",
      "Iteration 39, Error = 0.00023276334199659677\n",
      "Iteration 40, Error = 0.00022966486341617176\n",
      "Iteration 41, Error = 0.00022629101565175392\n",
      "Iteration 42, Error = 0.00022438363474600403\n",
      "Iteration 43, Error = 0.00022200780514384139\n",
      "Iteration 44, Error = 0.00021837865396031795\n",
      "Iteration 45, Error = 0.00021627798937935393\n",
      "Iteration 46, Error = 0.0002131643741177874\n",
      "Iteration 47, Error = 0.0002092034705830702\n",
      "Iteration 48, Error = 0.00020662185292694133\n",
      "Iteration 49, Error = 0.00020329490517738305\n",
      "Iteration 50, Error = 0.00019962896203414674\n",
      "Iteration 51, Error = 0.00019634110474307491\n",
      "Iteration 52, Error = 0.00019279855927051374\n",
      "Iteration 53, Error = 0.00018885544577839646\n",
      "Iteration 54, Error = 0.00018595845446766295\n",
      "Iteration 55, Error = 0.00018275435960590235\n",
      "Iteration 56, Error = 0.00017787421181232835\n",
      "Iteration 57, Error = 0.00017466258329241113\n",
      "Iteration 58, Error = 0.00017075003825070702\n",
      "Iteration 59, Error = 0.00016568876780073726\n",
      "Iteration 60, Error = 0.00016303195072087993\n",
      "Iteration 61, Error = 0.00016009197282097437\n",
      "Iteration 62, Error = 0.00015753972028566813\n",
      "Iteration 63, Error = 0.00015562890287880535\n",
      "Iteration 64, Error = 0.0001524376325405646\n",
      "Iteration 65, Error = 0.00015037419842343696\n",
      "Iteration 66, Error = 0.00014817799654920594\n",
      "Iteration 67, Error = 0.0001442420940397222\n",
      "Iteration 68, Error = 0.00014197069846194865\n",
      "Iteration 69, Error = 0.00013916777897187473\n",
      "Iteration 70, Error = 0.00013611542953329638\n",
      "Iteration 71, Error = 0.00013444878406471724\n",
      "Iteration 72, Error = 0.0001316717035754991\n",
      "Iteration 73, Error = 0.0001296232258681508\n",
      "Iteration 74, Error = 0.00012836722289174735\n",
      "Iteration 75, Error = 0.00012602641062272934\n",
      "Iteration 76, Error = 0.00012447815462028524\n",
      "Iteration 77, Error = 0.00012310190784240366\n",
      "Iteration 78, Error = 0.00012082188033581763\n",
      "Iteration 79, Error = 0.00011903499853383155\n",
      "Iteration 80, Error = 0.0001175239127161213\n",
      "Iteration 81, Error = 0.00011581010808809231\n",
      "Iteration 82, Error = 0.00011484479972518646\n",
      "Iteration 83, Error = 0.00011369275603688075\n",
      "Iteration 84, Error = 0.00011198472586739801\n",
      "Iteration 85, Error = 0.00011104229350678162\n",
      "Iteration 86, Error = 0.00010950521408685836\n",
      "Iteration 87, Error = 0.00010742184386728374\n",
      "Iteration 88, Error = 0.00010611982959897227\n",
      "Iteration 89, Error = 0.00010392922047620056\n",
      "Iteration 90, Error = 0.00010188828129069587\n",
      "Iteration 91, Error = 0.0001002408669714469\n",
      "Iteration 92, Error = 9.787030041545842e-5\n",
      "Iteration 93, Error = 9.623615633086442e-5\n",
      "Iteration 94, Error = 9.483921547899266e-5\n",
      "Iteration 95, Error = 9.305113395412248e-5\n",
      "Iteration 96, Error = 9.128507770060253e-5\n",
      "Iteration 97, Error = 8.984895531654634e-5\n",
      "Iteration 98, Error = 8.813302267522204e-5\n",
      "Iteration 99, Error = 8.614931848153612e-5\n",
      "Iteration 100, Error = 8.482570106061635e-5\n",
      "Iteration 101, Error = 8.328857894753432e-5\n",
      "Iteration 102, Error = 8.194699987726339e-5\n",
      "Iteration 103, Error = 8.093820627460526e-5\n",
      "Iteration 104, Error = 7.931221695274597e-5\n",
      "Iteration 105, Error = 7.827341323076367e-5\n",
      "Iteration 106, Error = 7.717877595592229e-5\n",
      "Iteration 107, Error = 7.51941794689156e-5\n",
      "Iteration 108, Error = 7.403920313749696e-5\n",
      "Iteration 109, Error = 7.255948195265095e-5\n",
      "Iteration 110, Error = 7.097102063040737e-5\n",
      "Iteration 111, Error = 7.011136010624557e-5\n",
      "Iteration 112, Error = 6.867748996874167e-5\n",
      "Iteration 113, Error = 6.766071003672232e-5\n",
      "Iteration 114, Error = 6.702094903357103e-5\n",
      "Iteration 115, Error = 6.586293802766174e-5\n",
      "Iteration 116, Error = 6.510265028343927e-5\n",
      "Iteration 117, Error = 6.444182036053107e-5\n",
      "Iteration 118, Error = 6.338149397573732e-5\n",
      "Iteration 119, Error = 6.252781071564764e-5\n",
      "Iteration 120, Error = 6.175695327709352e-5\n",
      "Iteration 121, Error = 6.086685204209668e-5\n",
      "Iteration 122, Error = 6.033632385091718e-5\n",
      "Iteration 123, Error = 5.9733879689818824e-5\n",
      "Iteration 124, Error = 5.8840519713365394e-5\n",
      "Iteration 125, Error = 5.8337116810578965e-5\n",
      "Iteration 126, Error = 5.7563119671272855e-5\n",
      "Iteration 127, Error = 5.6469607158993984e-5\n",
      "Iteration 128, Error = 5.5788220687856114e-5\n",
      "Iteration 129, Error = 5.469391858610224e-5\n",
      "Iteration 130, Error = 5.3614807175439706e-5\n",
      "Iteration 131, Error = 5.2747285756723746e-5\n",
      "Iteration 132, Error = 5.1582782686657885e-5\n",
      "Iteration 133, Error = 5.0673557797629945e-5\n",
      "Iteration 134, Error = 4.9942036284927236e-5\n",
      "Iteration 135, Error = 4.908640541782814e-5\n",
      "Iteration 136, Error = 4.811549408025948e-5\n",
      "Iteration 137, Error = 4.740807024791487e-5\n",
      "Iteration 138, Error = 4.6565264038954816e-5\n",
      "Iteration 139, Error = 4.553034688464961e-5\n",
      "Iteration 140, Error = 4.4843678646989046e-5\n",
      "Iteration 141, Error = 4.4037488555521876e-5\n",
      "Iteration 142, Error = 4.3308359021262534e-5\n",
      "Iteration 143, Error = 4.2767493009575444e-5\n",
      "Iteration 144, Error = 4.1908925122451985e-5\n",
      "Iteration 145, Error = 4.134670870236069e-5\n",
      "Iteration 146, Error = 4.07796352622541e-5\n",
      "Iteration 147, Error = 3.9744600467874145e-5\n",
      "Iteration 148, Error = 3.9144741021477236e-5\n",
      "Iteration 149, Error = 3.839572341679639e-5\n",
      "Iteration 150, Error = 3.757736480822184e-5\n",
      "Iteration 151, Error = 3.713321537707532e-5\n",
      "Iteration 152, Error = 3.6395635556602924e-5\n",
      "Iteration 153, Error = 3.586037141341011e-5\n",
      "Iteration 154, Error = 3.552423429450769e-5\n",
      "Iteration 155, Error = 3.4930147855691516e-5\n",
      "Iteration 156, Error = 3.452425767740375e-5\n",
      "Iteration 157, Error = 3.418521445200035e-5\n",
      "Iteration 158, Error = 3.3649463871566656e-5\n",
      "Iteration 159, Error = 3.320384660830808e-5\n",
      "Iteration 160, Error = 3.279983361950439e-5\n",
      "Iteration 161, Error = 3.233322240688956e-5\n",
      "Iteration 162, Error = 3.204089668299338e-5\n",
      "Iteration 163, Error = 3.171903716819216e-5\n",
      "Iteration 164, Error = 3.12465799883852e-5\n",
      "Iteration 165, Error = 3.096572875136071e-5\n",
      "Iteration 166, Error = 3.056959223753131e-5\n",
      "Iteration 167, Error = 3.0003913890359524e-5\n",
      "Iteration 168, Error = 2.9626266099991414e-5\n",
      "Iteration 169, Error = 2.912164026398154e-5\n",
      "Iteration 170, Error = 2.8557550573369594e-5\n",
      "Iteration 171, Error = 2.8064052496838895e-5\n",
      "Iteration 172, Error = 2.7546308869209306e-5\n",
      "Iteration 173, Error = 2.699659944283329e-5\n",
      "Iteration 174, Error = 2.659172414676032e-5\n",
      "Iteration 175, Error = 2.619390831506509e-5\n",
      "Iteration 176, Error = 2.5621090100088656e-5\n",
      "Iteration 177, Error = 2.5257883722313517e-5\n",
      "Iteration 178, Error = 2.4831003181559765e-5\n",
      "Iteration 179, Error = 2.426449908643937e-5\n",
      "Iteration 180, Error = 2.3901345242866248e-5\n",
      "Iteration 181, Error = 2.3476187126005036e-5\n",
      "Iteration 182, Error = 2.3076755972355042e-5\n",
      "Iteration 183, Error = 2.2785013687687085e-5\n",
      "Iteration 184, Error = 2.23262192791348e-5\n",
      "Iteration 185, Error = 2.2017001635382797e-5\n",
      "Iteration 186, Error = 2.1718849470723175e-5\n",
      "Iteration 187, Error = 2.1172673900876146e-5\n",
      "Iteration 188, Error = 2.0857159347338212e-5\n",
      "Iteration 189, Error = 2.047797609955826e-5\n",
      "Iteration 190, Error = 2.005396172018046e-5\n",
      "Iteration 191, Error = 1.9822228315893072e-5\n",
      "Iteration 192, Error = 1.944058663015173e-5\n"
     ]
    },
    {
     "name": "stdout",
     "output_type": "stream",
     "text": [
      "Iteration 193, Error = 1.9153482936548568e-5\n",
      "Iteration 194, Error = 1.897474585447079e-5\n",
      "Iteration 195, Error = 1.8665663632021073e-5\n",
      "Iteration 196, Error = 1.8444405769815062e-5\n",
      "Iteration 197, Error = 1.8266900999734607e-5\n",
      "Iteration 198, Error = 1.79901821799532e-5\n",
      "Iteration 199, Error = 1.7750768719709454e-5\n",
      "Iteration 200, Error = 1.7535993884141366e-5\n",
      "Iteration 201, Error = 1.7290245118613753e-5\n",
      "Iteration 202, Error = 1.7128420671109542e-5\n",
      "Iteration 203, Error = 1.6955371253736577e-5\n",
      "Iteration 204, Error = 1.6704037654123283e-5\n",
      "Iteration 205, Error = 1.6545695778581843e-5\n",
      "Iteration 206, Error = 1.6340261923627284e-5\n",
      "Iteration 207, Error = 1.6046888614026504e-5\n",
      "Iteration 208, Error = 1.583573864273394e-5\n",
      "Iteration 209, Error = 1.5595877811240975e-5\n",
      "Iteration 210, Error = 1.5303186648580627e-5\n",
      "Iteration 211, Error = 1.5026316404664118e-5\n",
      "Iteration 212, Error = 1.4777250953089693e-5\n",
      "Iteration 213, Error = 1.4469151046881071e-5\n",
      "Iteration 214, Error = 1.4244959023928855e-5\n",
      "Iteration 215, Error = 1.4043568273613248e-5\n",
      "Iteration 216, Error = 1.3727179734817035e-5\n",
      "Iteration 217, Error = 1.3532126620064978e-5\n",
      "Iteration 218, Error = 1.3310492838436368e-5\n",
      "Iteration 219, Error = 1.3005690034195097e-5\n",
      "Iteration 220, Error = 1.281136255513913e-5\n",
      "Iteration 221, Error = 1.2586293895554489e-5\n",
      "Iteration 222, Error = 1.2366445428831794e-5\n",
      "Iteration 223, Error = 1.2208452367328488e-5\n",
      "Iteration 224, Error = 1.196200102259031e-5\n",
      "Iteration 225, Error = 1.1790885304015115e-5\n",
      "Iteration 226, Error = 1.1633111147863366e-5\n",
      "Iteration 227, Error = 1.1343068515383564e-5\n",
      "Iteration 228, Error = 1.1175239202655998e-5\n",
      "Iteration 229, Error = 1.0981957394722561e-5\n",
      "Iteration 230, Error = 1.076016644552203e-5\n",
      "Iteration 231, Error = 1.0638048808709533e-5\n",
      "Iteration 232, Error = 1.0439739907510181e-5\n",
      "Iteration 233, Error = 1.0284367703082257e-5\n",
      "Iteration 234, Error = 1.0188781762851182e-5\n",
      "Iteration 235, Error = 1.0026847678188036e-5\n",
      "Iteration 236, Error = 9.905216776506023e-6\n"
     ]
    },
    {
     "data": {
      "image/png": "[encoded data removed]",
      "text/plain": [
       "Figure(PyObject <Figure size 640x480 with 1 Axes>)"
      ]
     },
     "metadata": {},
     "output_type": "display_data"
    },
    {
     "name": "stdout",
     "output_type": "stream",
     "text": [
      "Iteration 0, Error = 0.006777536454947252\n",
      "Iteration 1, Error = 0.006759598283249604\n",
      "Iteration 2, Error = 0.006040847040435097\n",
      "Iteration 3, Error = 0.0008956946361422967\n",
      "Iteration 4, Error = 7.095602702625704e-5\n",
      "Iteration 5, Error = 8.414937300515976e-6\n",
      "Error(No Preconditioner) = 0.015428, Error(Preconditioner) = 0.000088"
     ]
    }
   ],
   "source": [
    "include(\"tools.jl\")\n",
    "include(\"hconstruct.jl\")\n",
    "MM = (M + M');\n",
    "MM = MM[1:end,1:end]\n",
    "H = construct_hmat(MM, 64, 1e-3, 5, -1)\n",
    "H2 = construct_hmat(MM, 64, 1e-6, 5, -1)\n",
    "verify_matvec_error(H, MM)\n",
    "verify_matrix_error(H, MM)\n",
    "verify_matvec_error(H2, MM)\n",
    "verify_matrix_error(H2, MM)\n",
    "G = verify_lu_error(H);\n",
    "lu!(H);\n",
    "op = x->H\\x\n",
    "g0 = rand(size(MM,1))\n",
    "g = MM*g0\n",
    "y1,err1 = pygmres_with_call_back(H2, g)\n",
    "y2,err2 = pygmres_with_call_back(H2, g, op)\n",
    "semilogy(err1, \"o--\", label=\"no preconditioner\")\n",
    "semilogy(err2, \"*--\", label=\"HLU preconditioner\")\n",
    "legend()\n",
    "@printf(\"Error(No Preconditioner) = %f, Error(Preconditioner) = %f\", norm(y1-g0)/norm(g0), \n",
    "                                                                    norm(y2-g0)/norm(g0))"
   ]
  },
  {
   "cell_type": "code",
   "execution_count": 203,
   "metadata": {},
   "outputs": [
    {
     "name": "stdout",
     "output_type": "stream",
     "text": [
      "Iteration 0, Error = 3.349685510940972\n",
      "Iteration 1, Error = 0.020930173845954067\n",
      "Iteration 2, Error = 7.256196256707573e-5\n",
      "Iteration 3, Error = 4.571473021746013e-7\n"
     ]
    },
    {
     "data": {
      "text/plain": [
       "([0.102583, 0.023213, -0.00100688, -0.034857, -0.104398, 0.133028, 0.00522307, 0.0475717, -0.0695448, 0.0312223  …  126.179, 126.481, 126.515, 126.53, 126.441, 126.571, 126.802, 126.445, 126.644, 126.507], [3.34969, 0.0209302, 7.2562e-5, 4.57147e-7])"
      ]
     },
     "execution_count": 203,
     "metadata": {},
     "output_type": "execute_result"
    }
   ],
   "source": []
  },
  {
   "cell_type": "code",
   "execution_count": 192,
   "metadata": {},
   "outputs": [
    {
     "data": {
      "text/plain": [
       "9.8493528752934e-6"
      ]
     },
     "execution_count": 192,
     "metadata": {},
     "output_type": "execute_result"
    }
   ],
   "source": [
    "norm(MM*y-g)/norm(g)"
   ]
  },
  {
   "cell_type": "code",
   "execution_count": 48,
   "metadata": {},
   "outputs": [
    {
     "name": "stderr",
     "output_type": "stream",
     "text": [
      "WARNING: redefining constant tos\n"
     ]
    },
    {
     "data": {
      "text/plain": [
       "test_construct2D_low_rank (generic function with 1 method)"
      ]
     },
     "execution_count": 48,
     "metadata": {},
     "output_type": "execute_result"
    }
   ],
   "source": [
    "include(\"hconstruct.jl\")\n",
    "# lu!(H)"
   ]
  },
  {
   "cell_type": "code",
   "execution_count": 77,
   "metadata": {},
   "outputs": [
    {
     "ename": "MethodError",
     "evalue": "MethodError: no method matching log(::PyCall.PyObject)\nClosest candidates are:\n  log(!Matched::Float16) at math.jl:1004\n  log(!Matched::Complex{Float16}) at math.jl:1005\n  log(!Matched::Float64) at special/log.jl:254\n  ...",
     "output_type": "error",
     "traceback": [
      "MethodError: no method matching log(::PyCall.PyObject)\nClosest candidates are:\n  log(!Matched::Float16) at math.jl:1004\n  log(!Matched::Complex{Float16}) at math.jl:1005\n  log(!Matched::Float64) at special/log.jl:254\n  ...",
      "",
      "Stacktrace:",
      " [1] _broadcast_getindex_evalf at ./broadcast.jl:574 [inlined]",
      " [2] _broadcast_getindex at ./broadcast.jl:547 [inlined]",
      " [3] getindex at ./broadcast.jl:507 [inlined]",
      " [4] copy at ./broadcast.jl:734 [inlined]",
      " [5] materialize(::Base.Broadcast.Broadcasted{Base.Broadcast.DefaultArrayStyle{0},Nothing,typeof(log),Tuple{Base.RefValue{PyCall.PyObject}}}) at ./broadcast.jl:724",
      " [6] top-level scope at In[77]:1"
     ]
    }
   ],
   "source": []
  }
 ],
 "metadata": {
  "kernelspec": {
   "display_name": "Julia 1.0.0",
   "language": "julia",
   "name": "julia-1.0"
  },
  "language_info": {
   "file_extension": ".jl",
   "mimetype": "application/julia",
   "name": "julia",
   "version": "1.0.0"
  },
  "varInspector": {
   "cols": {
    "lenName": 16,
    "lenType": 16,
    "lenVar": 40
   },
   "kernels_config": {
    "python": {
     "delete_cmd_postfix": "",
     "delete_cmd_prefix": "del ",
     "library": "var_list.py",
     "varRefreshCmd": "print(var_dic_list())"
    },
    "r": {
     "delete_cmd_postfix": ") ",
     "delete_cmd_prefix": "rm(",
     "library": "var_list.r",
     "varRefreshCmd": "cat(var_dic_list()) "
    }
   },
   "types_to_exclude": [
    "module",
    "function",
    "builtin_function_or_method",
    "instance",
    "_Feature",
    "type"
   ],
   "window_display": false
  }
 },
 "nbformat": 4,
 "nbformat_minor": 2
}
