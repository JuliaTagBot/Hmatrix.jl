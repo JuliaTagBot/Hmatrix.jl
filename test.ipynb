{
 "cells": [
  {
   "cell_type": "code",
   "execution_count": 103,
   "metadata": {},
   "outputs": [
    {
     "data": {
      "text/plain": [
       "cluster_from_list (generic function with 1 method)"
      ]
     },
     "execution_count": 103,
     "metadata": {},
     "output_type": "execute_result"
    }
   ],
   "source": [
    "include(\"hmat.jl\")\n",
    "include(\"geometry.jl\")"
   ]
  },
  {
   "cell_type": "code",
   "execution_count": 80,
   "metadata": {},
   "outputs": [
    {
     "data": {
      "image/png": "[encoded data removed]",
      "text/plain": [
       "Figure(PyObject <Figure size 480x480 with 1 Axes>)"
      ]
     },
     "metadata": {},
     "output_type": "display_data"
    },
    {
     "data": {
      "text/plain": [
       "PyObject <matplotlib.image.AxesImage object at 0x1d1209080>"
      ]
     },
     "execution_count": 80,
     "metadata": {},
     "output_type": "execute_result"
    }
   ],
   "source": []
  },
  {
   "cell_type": "code",
   "execution_count": 101,
   "metadata": {},
   "outputs": [
    {
     "name": "stdout",
     "output_type": "stream",
     "text": [
      "640\n",
      "512 128\n",
      "256 256 64 64\n",
      "128 128 128 128\n",
      "64 64 64 64 64 64 64 64\n"
     ]
    }
   ],
   "source": [
    "print(c)"
   ]
  },
  {
   "cell_type": "code",
   "execution_count": 122,
   "metadata": {},
   "outputs": [
    {
     "data": {
      "text/plain": [
       "MersenneTwister(UInt32[0x0000091d], Random.DSFMT.DSFMT_state(Int32[-812920431, 1073547295, -221583675, 1073519389, -625627125, 1073607479, -247095265, 1073060305, -625377656, 1072726491  …  -821818309, 1073144430, -604570845, 1073598451, 1551330179, 79325429, 1210681231, -323629872, 382, 0]), [0.0, 0.0, 0.0, 0.0, 0.0, 0.0, 0.0, 0.0, 0.0, 0.0  …  0.0, 0.0, 0.0, 0.0, 0.0, 0.0, 0.0, 0.0, 0.0, 0.0], UInt128[0x00000000000000000000000000000000, 0x00000000000000000000000000000000, 0x00000000000000000000000000000000, 0x00000000000000000000000000000000, 0x00000000000000000000000000000000, 0x00000000000000000000000000000000, 0x00000000000000000000000000000000, 0x00000000000000000000000000000000, 0x00000000000000000000000000000000, 0x00000000000000000000000000000000  …  0x00000000000000000000000000000000, 0x00000000000000000000000000000000, 0x00000000000000000000000000000000, 0x00000000000000000000000000000000, 0x00000000000000000000000000000000, 0x00000000000000000000000000000000, 0x00000000000000000000000000000000, 0x00000000000000000000000000000000, 0x00000000000000000000000000000000, 0x00000000000000000000000000000000], 1002, 0)"
      ]
     },
     "execution_count": 122,
     "metadata": {},
     "output_type": "execute_result"
    }
   ],
   "source": []
  },
  {
   "cell_type": "code",
   "execution_count": 185,
   "metadata": {},
   "outputs": [
    {
     "name": "stdout",
     "output_type": "stream",
     "text": [
      "Matrix Error = 0.0\n",
      "Matvec Error = 5.025870553437178e-16\n",
      "Solve Error = 2.405038958713987e-10\n",
      "LU Matrix Error = 2.282884992155232e-11\n"
     ]
    },
    {
     "data": {
      "text/plain": [
       "1216×1216 Array{Float64,2}:\n",
       " 0.0           0.0           0.0          …   0.0           0.0        \n",
       " 0.0           0.0           0.0              0.0           0.0        \n",
       " 1.38778e-17  -5.55112e-17   0.0              0.0           0.0        \n",
       " 1.11022e-16   1.38778e-17   0.0              0.0           0.0        \n",
       " 0.0           0.0           1.11022e-16      0.0           0.0        \n",
       " 5.55112e-17  -5.55112e-17   0.0          …   0.0           0.0        \n",
       " 0.0           0.0           0.0             -1.11022e-16   5.55112e-17\n",
       " 0.0          -1.11022e-16   0.0              4.44089e-16  -5.55112e-17\n",
       " 2.77556e-17  -1.11022e-16   0.0              0.0           0.0        \n",
       " 5.55112e-17   0.0           0.0             -2.22045e-16   0.0        \n",
       " 1.11022e-16   0.0           0.0          …  -2.22045e-16   1.11022e-16\n",
       " 2.77556e-17   0.0           0.0              0.0           0.0        \n",
       " 0.0          -1.11022e-16   1.11022e-16      0.0           0.0        \n",
       " ⋮                                        ⋱                 ⋮          \n",
       " 1.11022e-16   0.0           1.11022e-16     -9.61453e-14   2.64233e-14\n",
       " 1.38778e-17   0.0           0.0          …  -2.16493e-14   1.79856e-14\n",
       " 0.0           0.0           0.0              2.66454e-15   1.25455e-13\n",
       " 0.0          -1.11022e-16   0.0              1.04361e-14  -5.88418e-14\n",
       " 2.77556e-17   0.0          -5.55112e-17     -6.4615e-14    6.06182e-14\n",
       " 5.55112e-17   0.0           0.0             -2.57572e-14  -9.76996e-15\n",
       " 1.11022e-16   0.0           1.11022e-16  …  -5.30687e-14   6.28386e-14\n",
       " 0.0           0.0           0.0             -5.19584e-14   3.5083e-14 \n",
       " 0.0           0.0           0.0              1.03473e-13  -6.06182e-14\n",
       " 1.11022e-16   0.0           0.0             -9.70335e-14   1.89848e-13\n",
       " 0.0          -1.11022e-16   1.38778e-17     -2.08722e-14   3.75255e-14\n",
       " 0.0           0.0           0.0          …  -4.50751e-14  -1.03695e-13"
      ]
     },
     "execution_count": 185,
     "metadata": {},
     "output_type": "execute_result"
    }
   ],
   "source": [
    "using Random\n",
    "Random.seed!(2333)\n",
    "include(\"hmat.jl\")\n",
    "include(\"geometry.jl\")\n",
    "n = 19\n",
    "N = 64\n",
    "c = cluster_from_list(ones(Int, n)*N)\n",
    "\n",
    "A = rand(N*n,N*n)\n",
    "B, P = construct_hmat(A, c, 60, 10, 1e-3, 100)\n",
    "# matshow(B)\n",
    "verify_matrix_error(B, A)\n",
    "verify_matvec_error(B, A)\n",
    "verify_lu_error(B)\n"
   ]
  },
  {
   "cell_type": "code",
   "execution_count": 220,
   "metadata": {},
   "outputs": [
    {
     "data": {
      "text/plain": [
       "generate_hmat (generic function with 1 method)"
      ]
     },
     "execution_count": 220,
     "metadata": {},
     "output_type": "execute_result"
    }
   ],
   "source": [
    "function generate_hmat()\n",
    "    N = 3070\n",
    "    cs = uniform_cluster(N, 57)\n",
    "    c = cluster_from_list(cs)\n",
    "    A = zeros(N, N)\n",
    "    for i = 1:size(A,1)\n",
    "        for j = 1:size(A,1)\n",
    "            if i==j\n",
    "                A[i,j] = 10\n",
    "            else\n",
    "                A[i,j] = -1/(abs(j-i))\n",
    "            end\n",
    "        end\n",
    "    end\n",
    "    Nleaf = 64\n",
    "    eps = 1e-5\n",
    "    Rrank = 10\n",
    "    MaxBlock = div(size(A,1),2)\n",
    "    \n",
    "    H,_ = construct_hmat(A, c, Nleaf, Rrank, eps, MaxBlock)\n",
    "    verify_matvec_error(H, A)\n",
    "    verify_matrix_error(H,A)\n",
    "    verify_lu_error(H)\n",
    "    \n",
    "    return A, H\n",
    "end"
   ]
  },
  {
   "cell_type": "code",
   "execution_count": 221,
   "metadata": {},
   "outputs": [
    {
     "name": "stdout",
     "output_type": "stream",
     "text": [
      "Matvec Error = 1.1442597727446368e-7\n",
      "Matrix Error = 1.531020173420797e-7\n",
      "Solve Error = 1.0046103717731529e-7\n",
      "LU Matrix Error = 4.25743361343045e-7\n"
     ]
    },
    {
     "data": {
      "text/plain": [
       "([10.0 -1.0 … -0.000325945 -0.000325839; -1.0 10.0 … -0.000326052 -0.000325945; … ; -0.000325945 -0.000326052 … 10.0 -1.0; -0.000325839 -0.000325945 … -1.0 10.0], Hmat\n",
       "  A: Array{Float64}((0, 0)) Array{Float64}(0,0)\n",
       "  B: Array{Float64}((0, 0)) Array{Float64}(0,0)\n",
       "  C: Array{Float64}((0, 0)) Array{Float64}(0,0)\n",
       "  P: Array{Int64}((0,)) Int64[]\n",
       "  is_rkmatrix: Bool false\n",
       "  is_fullmatrix: Bool false\n",
       "  is_hmat: Bool true\n",
       "  m: Int64 3070\n",
       "  n: Int64 3070\n",
       "  children: Array{Hmat}((2, 2))\n",
       "  s: Cluster\n",
       "  t: Cluster\n",
       ")"
      ]
     },
     "execution_count": 221,
     "metadata": {},
     "output_type": "execute_result"
    }
   ],
   "source": [
    "include(\"hmat.jl\")\n",
    "generate_hmat()"
   ]
  },
  {
   "cell_type": "code",
   "execution_count": null,
   "metadata": {},
   "outputs": [],
   "source": [
    "N = 1000\n",
    "cs = uniform_cluster(N, 64)\n",
    "c = cluster_from_list(cs)\n",
    "print(c)"
   ]
  },
  {
   "cell_type": "code",
   "execution_count": 83,
   "metadata": {},
   "outputs": [
    {
     "name": "stdout",
     "output_type": "stream",
     "text": [
      "512\n",
      "256 256\n",
      "128 128 128 128\n",
      "64 64 64 64 64 64 64 64\n"
     ]
    }
   ],
   "source": [
    "print(c)"
   ]
  },
  {
   "cell_type": "code",
   "execution_count": 82,
   "metadata": {},
   "outputs": [
    {
     "name": "stdout",
     "output_type": "stream",
     "text": [
      "(512, 512)\n"
     ]
    }
   ],
   "source": [
    "G = to_fmat(B)\n",
    "println(size(G))"
   ]
  },
  {
   "cell_type": "code",
   "execution_count": null,
   "metadata": {},
   "outputs": [],
   "source": []
  },
  {
   "cell_type": "code",
   "execution_count": 64,
   "metadata": {},
   "outputs": [
    {
     "name": "stdout",
     "output_type": "stream",
     "text": [
      "=============== size = 14x14 ===================\n",
      "+0.3405 +0.4760 +0.5359 +0.5561 +0.8699 +0.6511 +0.4012 +0.8961 +0.8248 +0.3543 +0.9579 +0.3560 +0.4700 +0.5558 \n",
      "+0.4946 +0.1119 +0.0633 +0.9680 +0.3402 +0.5872 +0.1484 +0.9718 +0.3847 +0.1015 +0.5386 +0.5412 +0.2757 +0.8676 \n",
      "+0.5435 +0.7342 +0.6899 +0.1310 +0.9889 +0.0332 +0.1224 +0.2125 +0.9109 +0.6142 +0.6139 +0.4246 +0.3904 +0.3065 \n",
      "+0.7389 +0.2655 +0.8642 +0.0116 +0.0996 +0.8173 +0.0671 +0.6741 +0.4900 +0.7173 +0.4385 +0.3680 +0.9072 +0.4906 \n",
      "+0.4944 +0.9227 +0.9747 +0.5768 +0.1665 +0.2024 +0.6567 +0.4120 +0.4314 +0.7679 +0.9751 +0.7338 +0.8142 +0.3786 \n",
      "+0.8520 +0.3021 +0.9987 +0.4377 +0.2563 +0.9167 +0.2114 +0.7023 +0.7673 +0.6560 +0.1728 +0.1521 +0.4000 +0.5352 \n",
      "+0.2441 +0.1261 +0.7491 +0.4961 +0.3454 +0.1324 +0.6373 +0.5043 +0.9223 +0.9680 +0.3029 +0.6996 +0.2125 +0.9883 \n",
      "+0.9543 +0.4911 +0.6962 +0.8896 +0.1989 +0.4006 +0.5319 +0.1872 +0.8286 +0.7616 +0.8383 +0.0201 +0.0213 +0.9346 \n",
      "+0.6226 +0.0868 +0.8116 +0.1997 +0.9038 +0.4777 +0.3159 +0.6269 +0.5108 +0.1180 +0.5884 +0.9306 +0.5233 +0.2104 \n",
      "+0.4895 +0.2707 +0.7359 +0.3291 +0.9772 +0.5315 +0.7018 +0.3746 +0.7653 +0.6439 +0.6131 +0.9888 +0.7863 +0.9683 \n",
      "+0.6908 +0.6229 +0.2793 +0.7372 +0.4051 +0.5300 +0.8890 +0.3760 +0.6645 +0.5904 +0.2467 +0.2221 +0.3040 +0.6109 \n",
      "+0.3501 +0.9007 +0.1664 +0.3613 +0.5167 +0.8048 +0.9247 +0.8449 +0.6877 +0.1578 +0.7537 +0.2732 +0.0397 +0.3893 \n",
      "+0.1900 +0.5097 +0.3516 +0.5939 +0.4881 +0.0720 +0.5429 +0.2405 +0.6580 +0.7027 +0.3390 +0.7180 +0.8956 +0.9398 \n",
      "+0.3040 +0.6975 +0.1515 +0.5652 +0.1707 +0.3440 +0.3085 +0.4427 +0.4980 +0.2185 +0.8711 +0.5133 +0.0916 +0.2423 \n",
      "=====================================================================\n"
     ]
    }
   ],
   "source": [
    "print(B)"
   ]
  },
  {
   "cell_type": "code",
   "execution_count": 65,
   "metadata": {},
   "outputs": [
    {
     "name": "stdout",
     "output_type": "stream",
     "text": [
      "Solve Error = 3.2471100673667827e-15\n",
      "LU Matrix Error = 6.661338147750939e-16\n"
     ]
    },
    {
     "data": {
      "text/plain": [
       "14×14 Array{Float64,2}:\n",
       "  0.0           0.0           0.0          …   0.0           0.0        \n",
       "  0.0           0.0           0.0              0.0           0.0        \n",
       " -5.55112e-17   0.0           0.0              0.0           1.11022e-16\n",
       "  0.0          -5.55112e-17   0.0              0.0           0.0        \n",
       " -5.55112e-17   0.0           0.0              1.11022e-16   0.0        \n",
       " -2.77556e-17   0.0           0.0          …   0.0           0.0        \n",
       "  0.0           0.0           0.0              0.0           0.0        \n",
       " -1.11022e-16   0.0           1.11022e-16      2.22045e-16   0.0        \n",
       "  0.0           1.38778e-17   0.0              0.0           0.0        \n",
       "  0.0           0.0          -2.77556e-17      4.44089e-16  -2.22045e-16\n",
       " -5.55112e-17   0.0           0.0          …   2.22045e-16   2.22045e-16\n",
       "  0.0           0.0          -5.55112e-17     -1.38778e-16   5.55112e-17\n",
       " -2.77556e-17   0.0           0.0              0.0          -2.22045e-16\n",
       "  0.0           0.0           0.0             -5.55112e-17  -2.22045e-16"
      ]
     },
     "execution_count": 65,
     "metadata": {},
     "output_type": "execute_result"
    }
   ],
   "source": []
  },
  {
   "cell_type": "code",
   "execution_count": 109,
   "metadata": {},
   "outputs": [
    {
     "data": {
      "text/plain": [
       "Cluster\n",
       "  X: Array{Float64}((0,)) Float64[]\n",
       "  P: Array{Int64}((0,)) Int64[]\n",
       "  left: Nothing nothing\n",
       "  right: Nothing nothing\n",
       "  m: Int64 0\n",
       "  n: Int64 0\n",
       "  N: Int64 4\n",
       "  isleaf: Bool true\n",
       "  s: Int64 4\n",
       "  e: Int64 7\n"
      ]
     },
     "execution_count": 109,
     "metadata": {},
     "output_type": "execute_result"
    }
   ],
   "source": [
    "c = Cluster(m = 3, n = 4, N = 7, s = 1, e = 7)\n",
    "c1 = Cluster(N = 3, isleaf=true, s = 1, e = 3)\n",
    "c2 = Cluster(N = 4, isleaf=true, s = 4, e = 7)\n",
    "c.left = c1\n",
    "c.right = c2"
   ]
  },
  {
   "cell_type": "code",
   "execution_count": 110,
   "metadata": {},
   "outputs": [
    {
     "name": "stdout",
     "output_type": "stream",
     "text": [
      "7\n",
      "3 4\n"
     ]
    }
   ],
   "source": [
    "print(c)"
   ]
  },
  {
   "cell_type": "code",
   "execution_count": 111,
   "metadata": {},
   "outputs": [
    {
     "data": {
      "text/plain": [
       "Hmat\n",
       "  A: Array{Float64}((0, 0)) Array{Float64}(0,0)\n",
       "  B: Array{Float64}((0, 0)) Array{Float64}(0,0)\n",
       "  C: Array{Float64}((0, 0)) Array{Float64}(0,0)\n",
       "  P: Array{Int64}((0,)) Int64[]\n",
       "  is_rkmatrix: Bool false\n",
       "  is_fullmatrix: Bool false\n",
       "  is_hmat: Bool true\n",
       "  m: Int64 7\n",
       "  n: Int64 7\n",
       "  children: Array{Hmat}((2, 2))\n",
       "  s: Cluster\n",
       "  t: Cluster\n"
      ]
     },
     "execution_count": 111,
     "metadata": {},
     "output_type": "execute_result"
    }
   ],
   "source": [
    "H11 = fullmat([6. 2. 2.;2. 4. 2.;2. 2. 2.], c1, c1)\n",
    "H12 = rkmat(2. * ones(3,1),3. * ones(4,1),c1, c2)\n",
    "H21 = rkmat(ones(4,1),ones(3,1),c2, c1)\n",
    "H22 = fullmat([3. 1. 1. 1;1. 2. 1. 1.;1. 1. 1. 1.; 1. 1. 1. 0.], c2, c2)\n",
    "H = hmat_from_children(H11, H12, H21, H22, c, c)"
   ]
  },
  {
   "cell_type": "code",
   "execution_count": 112,
   "metadata": {},
   "outputs": [],
   "source": [
    "consistency(H)"
   ]
  },
  {
   "cell_type": "code",
   "execution_count": 113,
   "metadata": {},
   "outputs": [
    {
     "data": {
      "image/png": "[encoded data removed]",
      "text/plain": [
       "Figure(PyObject <Figure size 480x480 with 1 Axes>)"
      ]
     },
     "metadata": {},
     "output_type": "display_data"
    },
    {
     "data": {
      "text/plain": [
       "PyObject <matplotlib.image.AxesImage object at 0x1d1983dd8>"
      ]
     },
     "execution_count": 113,
     "metadata": {},
     "output_type": "execute_result"
    }
   ],
   "source": [
    "matshow(H)"
   ]
  },
  {
   "cell_type": "code",
   "execution_count": 114,
   "metadata": {},
   "outputs": [
    {
     "data": {
      "text/plain": [
       "3×3 Array{Float64,2}:\n",
       " 6.0       2.0      2.0    \n",
       " 0.333333  3.33333  1.33333\n",
       " 0.333333  0.4      0.8    "
      ]
     },
     "execution_count": 114,
     "metadata": {},
     "output_type": "execute_result"
    }
   ],
   "source": [
    "G = [+6.0000 +2.0000 +2.0000 \n",
    "+2.0000 +4.0000 +2.0000\n",
    "+2.0000 +2.0000 +2.0000]\n",
    "lu!(G)\n",
    "G"
   ]
  },
  {
   "cell_type": "code",
   "execution_count": 115,
   "metadata": {},
   "outputs": [
    {
     "data": {
      "text/plain": [
       "3×4 Array{Float64,2}:\n",
       " 6.0  6.0  6.0  6.0\n",
       " 4.0  4.0  4.0  4.0\n",
       " 2.4  2.4  2.4  2.4"
      ]
     },
     "execution_count": 115,
     "metadata": {},
     "output_type": "execute_result"
    }
   ],
   "source": [
    "[1. 0. 0.\n",
    "1/3 1. 0.\n",
    "1/3 0.4 1.]\\(6*ones(3,4))"
   ]
  },
  {
   "cell_type": "code",
   "execution_count": 116,
   "metadata": {},
   "outputs": [
    {
     "data": {
      "text/plain": [
       "4×3 Array{Float64,2}:\n",
       " 0.166667  0.2  0.5\n",
       " 0.166667  0.2  0.5\n",
       " 0.166667  0.2  0.5\n",
       " 0.166667  0.2  0.5"
      ]
     },
     "execution_count": 116,
     "metadata": {},
     "output_type": "execute_result"
    }
   ],
   "source": [
    "ones(4,3)/UpperTriangular(G)"
   ]
  },
  {
   "cell_type": "code",
   "execution_count": 117,
   "metadata": {},
   "outputs": [
    {
     "data": {
      "text/plain": [
       "7-element Array{Int64,1}:\n",
       " 1\n",
       " 2\n",
       " 3\n",
       " 5\n",
       " 4\n",
       " 6\n",
       " 7"
      ]
     },
     "execution_count": 117,
     "metadata": {},
     "output_type": "execute_result"
    }
   ],
   "source": [
    "include(\"hmat.jl\")\n",
    "H11 = fullmat([6. 2. 2.;2. 4. 2.;2. 2. 2.], c1, c1)\n",
    "H12 = rkmat(2. * ones(3,1),3. * ones(4,1),c1, c2)\n",
    "H21 = rkmat(ones(4,1),ones(3,1),c2, c1)\n",
    "H22 = fullmat([3. 1. 1. 1;1. 2. 1. 1.;1. 1. 1. 1.; 1. 1. 1. 0.], c2, c2)\n",
    "H = hmat_from_children(H11, H12, H21, H22, c, c)\n",
    "lu!(H)"
   ]
  },
  {
   "cell_type": "code",
   "execution_count": 118,
   "metadata": {},
   "outputs": [
    {
     "name": "stdout",
     "output_type": "stream",
     "text": [
      "Solve Error = 2.219682625368574e-15\n",
      "LU Matrix Error = 1.1102230246251565e-16\n",
      "Matrix Error = 0.0\n",
      "Matvec Error = 6.1842304230019e-17\n"
     ]
    },
    {
     "data": {
      "text/plain": [
       "7-element Array{Int64,1}:\n",
       " 3\n",
       " 1\n",
       " 2\n",
       " 7\n",
       " 5\n",
       " 4\n",
       " 6"
      ]
     },
     "execution_count": 118,
     "metadata": {},
     "output_type": "execute_result"
    }
   ],
   "source": [
    "H11 = fullmat(rand(3,3), c1, c1)\n",
    "H12 = rkmat(rand(3,1),rand(4,1),c1, c2)\n",
    "H21 = rkmat(rand(4,1),rand(3,1),c2, c1)\n",
    "H22 = fullmat(rand(4,4), c2, c2)\n",
    "H = hmat_from_children(H11, H12, H21, H22, c, c)\n",
    "verify_lu_error(H)\n",
    "verify_matrix_error(H, to_fmat(H))\n",
    "verify_matvec_error(H, to_fmat(H))\n",
    "lu!(H)\n"
   ]
  },
  {
   "cell_type": "code",
   "execution_count": null,
   "metadata": {},
   "outputs": [],
   "source": [
    "+6.0000 +2.0000 +2.0000 +6.0000 +6.0000 +6.0000 +6.0000 \n",
    "+0.3333 +3.3333 +1.3333 +4.0000 +4.0000 +4.0000 +4.0000 \n",
    "+0.3333 +0.4000 +0.8000 +2.4000 +2.4000 +2.4000 +2.4000 \n",
    "+0.1667 +0.2000 +0.5000 -2.0000 -1.0000 -2.0000 -2.0000 \n",
    "+0.1667 +0.2000 +0.5000 -0.0000 -2.0000 -2.0000 -2.0000 \n",
    "+0.1667 +0.2000 +0.5000 +1.0000 +0.5000 +1.0000 +1.0000 \n",
    "+0.1667 +0.2000 +0.5000 +1.0000 +0.5000 +1.0000 -1.0000"
   ]
  },
  {
   "cell_type": "code",
   "execution_count": 21,
   "metadata": {},
   "outputs": [
    {
     "name": "stdout",
     "output_type": "stream",
     "text": [
      "=============== size = 4x4 ===================\n",
      "-2.0002 -1.0002 -2.0002 -2.0002 \n",
      "-0.0000 -2.0001 -2.0001 -2.0001 \n",
      "-0.5000 +0.0000 +0.0001 -1.9999 \n",
      "-0.5000 +0.0000 +0.3333 +0.6667 \n",
      "=====================================================================\n"
     ]
    }
   ],
   "source": [
    "F = lu!(K)\n",
    "printmat(K)"
   ]
  },
  {
   "cell_type": "code",
   "execution_count": 22,
   "metadata": {},
   "outputs": [
    {
     "data": {
      "text/plain": [
       "4-element Array{Int64,1}:\n",
       " 1\n",
       " 2\n",
       " 4\n",
       " 3"
      ]
     },
     "execution_count": 22,
     "metadata": {},
     "output_type": "execute_result"
    },
    {
     "name": "stderr",
     "output_type": "stream",
     "text": [
      "WARNING: both PyPlot and Base export \"axes\"; uses of it in module Main must be qualified\n"
     ]
    }
   ],
   "source": [
    "F.p"
   ]
  }
 ],
 "metadata": {
  "kernelspec": {
   "display_name": "Julia 1.0.0",
   "language": "julia",
   "name": "julia-1.0"
  },
  "language_info": {
   "file_extension": ".jl",
   "mimetype": "application/julia",
   "name": "julia",
   "version": "1.0.0"
  },
  "varInspector": {
   "cols": {
    "lenName": 16,
    "lenType": 16,
    "lenVar": 40
   },
   "kernels_config": {
    "python": {
     "delete_cmd_postfix": "",
     "delete_cmd_prefix": "del ",
     "library": "var_list.py",
     "varRefreshCmd": "print(var_dic_list())"
    },
    "r": {
     "delete_cmd_postfix": ") ",
     "delete_cmd_prefix": "rm(",
     "library": "var_list.r",
     "varRefreshCmd": "cat(var_dic_list()) "
    }
   },
   "types_to_exclude": [
    "module",
    "function",
    "builtin_function_or_method",
    "instance",
    "_Feature",
    "type"
   ],
   "window_display": false
  }
 },
 "nbformat": 4,
 "nbformat_minor": 2
}
