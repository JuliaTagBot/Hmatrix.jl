{
 "cells": [
  {
   "cell_type": "markdown",
   "metadata": {},
   "source": [
    "# Tutorial for `hmat.jl`"
   ]
  },
  {
   "cell_type": "markdown",
   "metadata": {},
   "source": [
    "This tutorial will show the basic usage of the $\\mathcal{H}$-matrix software, which implements construction, LU and backslash operator. \n",
    "\n",
    "Basically, we focus on solving the linear system \n",
    "$$Ax=b$$\n",
    "where $A$ can be a dense matrix. \n",
    "\n",
    "The basic idea is to construction a **fine** $\\mathcal{H}$-matrix approximation $H_1$, and a **coarse** $\\mathcal{H}$-matrix $H_2$. Since the structure of the latter is coarse, we are then able to carry out LU decomposition of $H_2$ in an inexpensive way. The LU factorized $H_2$ can then serve as a preconditioner. Mathematically we will be solving\n",
    "$$H_2^{-1}H_1x = H_2^{-1}b$$\n",
    "and use the solution $\\hat x$ to approximate the solution $x^*$ to $Ax=b$."
   ]
  },
  {
   "cell_type": "markdown",
   "metadata": {},
   "source": [
    "Throught the notebook, we will only tune two parameters for the $\\mathcal{H}$-matrix construction: \n",
    "* Compression tolerance $\\varepsilon_1$, which controls the tradeoff between accuracy and cost for constructing  $\\mathcal{H}$-matrix.\n",
    "\n",
    "* Low rank matrix addition tolerance $\\varepsilon_2$. For the $\\mathcal{H}$-LU algorithm we use, the accuracy for low rank matrix addition has substantial impact on the cost and accuracy of $\\mathcal{H}$-LU algorithm. The tolerance parameter will lend us a control over the tradeoff."
   ]
  },
  {
   "cell_type": "markdown",
   "metadata": {},
   "source": [
    "### Installation Guide\n",
    "\n",
    "An easy way to install and configure is to run `install.jl` through julia REPL\n",
    "\n",
    "```\n",
    "julia> include(\"install.jl\")\n",
    "```\n",
    "It will also try to compile some C/C++ scripts. If it fails, the users are required to modify CMakeLists.txt and rerun the script."
   ]
  },
  {
   "cell_type": "code",
   "execution_count": 13,
   "metadata": {},
   "outputs": [
    {
     "name": "stderr",
     "output_type": "stream",
     "text": [
      "WARNING: redefining constant tos\n"
     ]
    },
    {
     "data": {
      "text/plain": [
       "rel_error (generic function with 1 method)"
      ]
     },
     "execution_count": 13,
     "metadata": {},
     "output_type": "execute_result"
    }
   ],
   "source": [
    "include(\"hmat.jl\")"
   ]
  },
  {
   "cell_type": "markdown",
   "metadata": {},
   "source": [
    "## Example 1: $\\mathcal{H}$-matrix Construction "
   ]
  },
  {
   "cell_type": "markdown",
   "metadata": {},
   "source": [
    "One way to construct $\\mathcal{H}$-matrix is through the black-box routine \n",
    "```\n",
    "function construct_hmat(A::Array{Float64}, c::Cluster, Nleaf::Int64, Rrank::Int64,\n",
    "                eps::Float64, MaxBlock::Int64)\n",
    "```\n",
    "which requires the user to input\n",
    "\n",
    "* `A`: a dense matrix $A$\n",
    "\n",
    "* `c`: a cluster structure \n",
    "\n",
    "* `Nleaf`: Maximum block size of the leaf blocks. Usually `Nleaf=64` is a good choice (which can better leverage the dense linear algebra engine such as BLAS without sacrificing too much low rank approximation)\n",
    "\n",
    "* `Rrank`: Maximum rank for each low-rank block\n",
    "\n",
    "* `eps` : $\\varepsilon_1$ as mentioned\n",
    "\n",
    "* `MaxBlock` : The largest possible block size for the low rank blocks. Usually we can choose `MaxBLock`$\\approx N/4$, where $N$ is the matrix size "
   ]
  },
  {
   "cell_type": "markdown",
   "metadata": {},
   "source": [
    "If no information is available, we can use `uniform_cluster` and `cluster_from_list` to construct a linear cluster structure. For example, if the matrix size is 2000, we want each leaf block have size approximately equal to $64$, we have"
   ]
  },
  {
   "cell_type": "code",
   "execution_count": 23,
   "metadata": {},
   "outputs": [
    {
     "name": "stdout",
     "output_type": "stream",
     "text": [
      "2000\n",
      "1024 976\n",
      "512 512 512 464\n",
      "256 256 256 256 256 256 256 208\n",
      "128 128 128 128 128 128 128 128 128 128 128 128 128 128 128 80\n",
      "64 64 64 64 64 64 64 64 64 64 64 64 64 64 64 64 64 64 64 64 64 64 64 64 64 64 64 64 64 64 64 16\n"
     ]
    }
   ],
   "source": [
    "cs = uniform_cluster(2000,64)\n",
    "c = cluster_from_list(cs)\n",
    "print(c)"
   ]
  },
  {
   "cell_type": "markdown",
   "metadata": {},
   "source": [
    "This indicates the cluster has 6 levels. The second level splits the rows/columns of the matrix into two, each of them has sizes 1024 or 976."
   ]
  },
  {
   "cell_type": "markdown",
   "metadata": {},
   "source": [
    "Now we construction a manufactured matrix"
   ]
  },
  {
   "cell_type": "code",
   "execution_count": 24,
   "metadata": {},
   "outputs": [],
   "source": [
    "A = zeros(2000,2000)\n",
    "for i = 1:2000\n",
    "    for j = 1:2000\n",
    "        if i==j\n",
    "            A[i,j] = 100\n",
    "        else\n",
    "            A[i,j] = -1/(i-j)^2\n",
    "        end\n",
    "    end\n",
    "end"
   ]
  },
  {
   "cell_type": "markdown",
   "metadata": {},
   "source": [
    "We construct a $\\mathcal{H}$-matrix out of $A$"
   ]
  },
  {
   "cell_type": "code",
   "execution_count": 25,
   "metadata": {},
   "outputs": [
    {
     "data": {
      "text/plain": [
       "(Hmat\n",
       "  A: Array{Float64}((0, 0)) Array{Float64}(0,0)\n",
       "  B: Array{Float64}((0, 0)) Array{Float64}(0,0)\n",
       "  C: Array{Float64}((0, 0)) Array{Float64}(0,0)\n",
       "  P: Array{Int64}((0,)) Int64[]\n",
       "  is_rkmatrix: Bool false\n",
       "  is_fullmatrix: Bool false\n",
       "  is_hmat: Bool true\n",
       "  m: Int64 2000\n",
       "  n: Int64 2000\n",
       "  children: Array{Hmat}((2, 2))\n",
       "  s: Cluster\n",
       "  t: Cluster\n",
       ", [1, 2, 3, 4, 5, 6, 7, 8, 9, 10  …  1991, 1992, 1993, 1994, 1995, 1996, 1997, 1998, 1999, 2000])"
      ]
     },
     "execution_count": 25,
     "metadata": {},
     "output_type": "execute_result"
    }
   ],
   "source": [
    "Nleaf = 64\n",
    "Rrank = 5\n",
    "e = 1e-2\n",
    "MaxBlock = div(2000,4)\n",
    "H, _ = construct_hmat(A, c, Nleaf, Rrank, e, MaxBlock)"
   ]
  },
  {
   "cell_type": "markdown",
   "metadata": {},
   "source": [
    "The $\\mathcal{H}$-matrix can be visualized using `matshow`. The yellow part corresponds to a dense matrix, while the green part corresponds to a low rank matrix."
   ]
  },
  {
   "cell_type": "code",
   "execution_count": 26,
   "metadata": {},
   "outputs": [
    {
     "data": {
      "image/png": "[encoded data removed]",
      "text/plain": [
       "Figure(PyObject <Figure size 640x480 with 1 Axes>)"
      ]
     },
     "metadata": {},
     "output_type": "display_data"
    }
   ],
   "source": [
    "matshow(H)"
   ]
  },
  {
   "cell_type": "markdown",
   "metadata": {},
   "source": [
    "## Example 2: Matrix Vector Multiplication"
   ]
  },
  {
   "cell_type": "markdown",
   "metadata": {},
   "source": [
    "After constructing the H matrix, we get the fast matrix vector multiplication for free thanks to the library. The operator `*` is overloaded and therefore we can directly write `H*x`"
   ]
  },
  {
   "cell_type": "code",
   "execution_count": 36,
   "metadata": {},
   "outputs": [
    {
     "name": "stdout",
     "output_type": "stream",
     "text": [
      "  0.001847 seconds (5 allocations: 15.906 KiB)\n",
      "  0.001493 seconds (441 allocations: 45.813 KiB)\n",
      "norm(y2 - y1) / norm(y1) = 7.06422406459368e-5\n"
     ]
    },
    {
     "data": {
      "text/plain": [
       "7.06422406459368e-5"
      ]
     },
     "execution_count": 36,
     "metadata": {},
     "output_type": "execute_result"
    }
   ],
   "source": [
    "x = rand(2000)\n",
    "@time y1 = A*x\n",
    "@time y2 = H*x\n",
    "@show norm(y2-y1)/norm(y1)"
   ]
  },
  {
   "cell_type": "markdown",
   "metadata": {},
   "source": [
    "At this stage, the matrix vector multiplication does not have advantage over the dense matrix vector multiplication. This is because the matrix size is still too small. We will later see that H matrix vector multiplication will have linear complexity while dense ones have quadratic cost. "
   ]
  },
  {
   "cell_type": "markdown",
   "metadata": {},
   "source": [
    "## Example 3. LU decomposition"
   ]
  },
  {
   "cell_type": "markdown",
   "metadata": {},
   "source": [
    "Now we consider the LU decomposition of the $\\mathcal{H}$-matrix. `lu!` is implemented and accepts two arguments\n",
    "* `H`: $\\mathcal{H}$-matrix\n",
    "\n",
    "* `eps`: $\\varepsilon_2$ as mentioned"
   ]
  },
  {
   "cell_type": "code",
   "execution_count": 46,
   "metadata": {},
   "outputs": [
    {
     "name": "stdout",
     "output_type": "stream",
     "text": [
      "  0.038238 seconds (23.82 k allocations: 13.982 MiB)\n",
      "  0.071469 seconds (6 allocations: 8.125 KiB)\n",
      "  0.067516 seconds (9 allocations: 30.541 MiB, 7.05% gc time)\n",
      "  0.000966 seconds (440 allocations: 56.172 KiB)\n",
      "norm(x - xhat) / norm(x) = 0.01539032691121676\n"
     ]
    },
    {
     "data": {
      "text/plain": [
       "0.01539032691121676"
      ]
     },
     "execution_count": 46,
     "metadata": {},
     "output_type": "execute_result"
    }
   ],
   "source": [
    "HH = copy(H)\n",
    "@time lu!(HH, 1e-2);\n",
    "\n",
    "y = A*x\n",
    "@time lu!(A)\n",
    "@time A\\y\n",
    "@time xhat = HH\\y\n",
    "@show norm(x-xhat)/norm(x)"
   ]
  },
  {
   "cell_type": "code",
   "execution_count": 48,
   "metadata": {},
   "outputs": [
    {
     "name": "stderr",
     "output_type": "stream",
     "text": [
      "WARNING: redefining constant tos\n"
     ]
    },
    {
     "data": {
      "text/plain": [
       "hprecond (generic function with 1 method)"
      ]
     },
     "execution_count": 48,
     "metadata": {},
     "output_type": "execute_result"
    }
   ],
   "source": [
    "include(\"tools.jl\")"
   ]
  },
  {
   "cell_type": "markdown",
   "metadata": {},
   "source": [
    "## Example 4: Iterative Solvers"
   ]
  },
  {
   "cell_type": "markdown",
   "metadata": {},
   "source": [
    "Consider the matrix $A$ where $A_{ij} = -\\frac{1}{h^2|i-j|^2}$ and $A_{ii} = -\\sum_{j\\neq i} A_{ij} + 1.0$. "
   ]
  },
  {
   "cell_type": "code",
   "execution_count": 22,
   "metadata": {},
   "outputs": [
    {
     "data": {
      "text/plain": [
       "computeA (generic function with 1 method)"
      ]
     },
     "execution_count": 22,
     "metadata": {},
     "output_type": "execute_result"
    }
   ],
   "source": [
    "function computeA(N)\n",
    "    A = zeros(N, N)\n",
    "    h = 1/(N-1)\n",
    "    for i = 1:N\n",
    "        for j = 1:N\n",
    "            if i==j\n",
    "                A[i,j] = 0.0\n",
    "            else\n",
    "                A[i,j] = -1/(i-j)^2\n",
    "            end\n",
    "        end\n",
    "    end\n",
    "    for i = 1:N\n",
    "        A[i,i] = 10.0*h^2 - sum(A[i,:])\n",
    "    end\n",
    "    return A\n",
    "end"
   ]
  },
  {
   "cell_type": "markdown",
   "metadata": {},
   "source": [
    "The condition number will rise dramatically like $\\mathcal{O}(N^2)$, which will lead to the failure of iterative method. In these cases, using $\\mathcal{H}$-LU as preconditioners will be very inviting. "
   ]
  },
  {
   "cell_type": "code",
   "execution_count": 61,
   "metadata": {},
   "outputs": [
    {
     "data": {
      "image/png": "[encoded data removed]",
      "text/plain": [
       "Figure(PyObject <Figure size 640x480 with 1 Axes>)"
      ]
     },
     "metadata": {},
     "output_type": "display_data"
    },
    {
     "name": "stderr",
     "output_type": "stream",
     "text": [
      "WARNING: redefining constant tos\n"
     ]
    },
    {
     "data": {
      "text/plain": [
       "PyObject Text(24.000000000000007, 0.5, 'Residual')"
      ]
     },
     "execution_count": 61,
     "metadata": {},
     "output_type": "execute_result"
    }
   ],
   "source": [
    "include(\"tools.jl\")\n",
    "A = computeA(2^11)\n",
    "x = rand(2^11)\n",
    "y = A*x\n",
    "y1, err1 = pygmres_with_call_back(A, y, nothing, false)\n",
    "semilogy(err1)\n",
    "xlabel(\"Iteration\")\n",
    "ylabel(\"Residual\")"
   ]
  },
  {
   "cell_type": "markdown",
   "metadata": {},
   "source": [
    "We see that without a preconditioner, the iterative method does not work well. \n",
    "\n",
    "Now let us construct a $\\mathcal{H}$-matrix preconditioner."
   ]
  },
  {
   "cell_type": "code",
   "execution_count": 35,
   "metadata": {},
   "outputs": [
    {
     "data": {
      "image/png": "[encoded data removed]",
      "text/plain": [
       "Figure(PyObject <Figure size 640x480 with 1 Axes>)"
      ]
     },
     "metadata": {},
     "output_type": "display_data"
    },
    {
     "name": "stdout",
     "output_type": "stream",
     "text": [
      "Matrix Error = 1.7451594086937555e-10\n",
      "Matvec Error = 1.1275567384865632e-10\n"
     ]
    }
   ],
   "source": [
    "n = 11\n",
    "A = computeA(2^n)\n",
    "cs = uniform_cluster(2^n,64)\n",
    "c = cluster_from_list(cs)\n",
    "\n",
    "Nleaf = 64\n",
    "Rrank = 5\n",
    "e = 1e-5\n",
    "MaxBlock = div(2^n,4)\n",
    "H1, _ = construct_hmat(A, c, Nleaf, Rrank, e, MaxBlock)\n",
    "verify_matrix_error(H1, A)\n",
    "verify_matvec_error(H1, A)\n",
    "matshow(H1)"
   ]
  },
  {
   "cell_type": "markdown",
   "metadata": {},
   "source": [
    "The matrix error and matvec error is very small and therefore $H_1$ is a good approximation to the original matrix. Plus, the figure shows that the $\\mathcal{H}$-matrix is not populated with dense blocks and therefore we expect efficient matrix vector multiplication and LU. "
   ]
  },
  {
   "cell_type": "markdown",
   "metadata": {},
   "source": [
    "We now do the LU decomposition directly on H1 instead of on a newly construction \"coarse\" $\\mathcal{H}$-matrix."
   ]
  },
  {
   "cell_type": "code",
   "execution_count": 58,
   "metadata": {},
   "outputs": [
    {
     "name": "stdout",
     "output_type": "stream",
     "text": [
      "[Operator] LU Error = 0.00036862045248688136\n",
      "[Matrix  ] LU Error = 0.00036862045248688136\n",
      "[Operator] Solve Error = 0.8816351531270361\n",
      "[Matrix  ] Solve Error = 0.8475001344392191\n"
     ]
    }
   ],
   "source": [
    "HH = copy(H1)\n",
    "lu!(HH, 1e-3)\n",
    "verify_lu_error(H1, HH, A)"
   ]
  },
  {
   "cell_type": "markdown",
   "metadata": {},
   "source": [
    "Now we consider using `HH` as a preconditioner. The function we will use is `function pygmres_with_call_back(A, b, op=nothing, verbose=true)` where\n",
    "* `A`: Matrix or $\\mathcal{H}$-matrix or linear operator \n",
    "* `b`: Right hand size\n",
    "* `op`: Matrix or $\\mathcal{H}$-matrix or linear operator. It is used as preconditioner\n",
    "* `verbose`: whether to print iteration error or not"
   ]
  },
  {
   "cell_type": "code",
   "execution_count": 63,
   "metadata": {},
   "outputs": [
    {
     "data": {
      "image/png": "[encoded data removed]",
      "text/plain": [
       "Figure(PyObject <Figure size 640x480 with 1 Axes>)"
      ]
     },
     "metadata": {},
     "output_type": "display_data"
    },
    {
     "name": "stdout",
     "output_type": "stream",
     "text": [
      "Error1 (Without Preconditioner) = 0.7780634086720646\n",
      "Error2 (With Preconditioner)= 1.2684387709956866e-8\n"
     ]
    },
    {
     "data": {
      "text/plain": [
       "PyObject Text(24.000000000000007, 0.5, 'Error')"
      ]
     },
     "execution_count": 63,
     "metadata": {},
     "output_type": "execute_result"
    }
   ],
   "source": [
    "y2, err2 = pygmres_with_call_back(H1, y, HH, false);\n",
    "println(\"Error1 (Without Preconditioner) = \", rel_error(y1, x))\n",
    "println(\"Error2 (With Preconditioner)= \", rel_error(y2, x))\n",
    "semilogy(err2,\"o-\",label=\"With Preconditioner\")\n",
    "semilogy(err1, \"+-\", label=\"Without Preconditioner\")\n",
    "legend()\n",
    "xlabel(\"Iteration\")\n",
    "ylabel(\"Error\")\n"
   ]
  },
  {
   "cell_type": "markdown",
   "metadata": {},
   "source": [
    "**Note**: note that the solve error is not so satisfactory even though the LU error is small. It is not contradiction: since the original system is quite ill-conditioned, and $\\mathcal{H}$-LU essentially does no pivoting except within the leaf nodes, the solve process may be erroneous."
   ]
  },
  {
   "cell_type": "markdown",
   "metadata": {},
   "source": [
    "## Other Notes"
   ]
  },
  {
   "cell_type": "markdown",
   "metadata": {},
   "source": [
    "`hmat.jl` -- basic data structure for $\\mathcal{H}$-matrix, LU algorithm\n",
    "\n",
    "`harithm.jl` -- matrix add, multiplication, etc.\n",
    "\n",
    "`cluster.jl` -- algorithms related to cluster.\n",
    "\n",
    "`tools.jl` -- iterative methods\n",
    "\n",
    "`test_Merton_kernel.jl` -- test scripts"
   ]
  }
 ],
 "metadata": {
  "kernelspec": {
   "display_name": "Julia 1.0.2",
   "language": "julia",
   "name": "julia-1.0"
  },
  "language_info": {
   "file_extension": ".jl",
   "mimetype": "application/julia",
   "name": "julia",
   "version": "1.0.2"
  }
 },
 "nbformat": 4,
 "nbformat_minor": 2
}
